{
 "cells": [
  {
   "cell_type": "markdown",
   "id": "babd5c79",
   "metadata": {},
   "source": [
    "## Importing packages"
   ]
  },
  {
   "cell_type": "code",
   "execution_count": 200,
   "id": "d87fa7a7",
   "metadata": {},
   "outputs": [],
   "source": [
    "import pandas as pd\n",
    "import re\n",
    "import datetime as dt\n",
    "import numpy as np\n",
    "from sklearn.cluster import KMeans\n",
    "from sklearn.metrics import silhouette_score\n",
    "import matplotlib.pyplot as plt\n",
    "# to avoid warnings\n",
    "import warnings\n",
    "warnings.filterwarnings('ignore')\n",
    "warnings.warn(\"this will not show\")"
   ]
  },
  {
   "cell_type": "code",
   "execution_count": 201,
   "id": "c7e080de",
   "metadata": {},
   "outputs": [],
   "source": [
    "data = pd.read_csv(\"top_toilets.csv\",index_col=0)\n",
    "top_toilets = data"
   ]
  },
  {
   "cell_type": "markdown",
   "id": "b67257a9",
   "metadata": {},
   "source": [
    "## Exploring geo-distance for sanity check"
   ]
  },
  {
   "cell_type": "code",
   "execution_count": 202,
   "id": "22143d71",
   "metadata": {},
   "outputs": [],
   "source": [
    "# Fake user data\n",
    "user_coordinates=[52.52646152725616, 13.376623742933933]\n",
    "lat1 = radians(52.52646152725616)\n",
    "lon1 = radians(13.376623742933933)"
   ]
  },
  {
   "cell_type": "code",
   "execution_count": 203,
   "id": "aec582c3",
   "metadata": {},
   "outputs": [
    {
     "data": {
      "text/plain": [
       "96      6.385688\n",
       "231     5.302215\n",
       "236     6.939506\n",
       "289     3.979169\n",
       "253     2.119548\n",
       "         ...    \n",
       "383    11.257878\n",
       "386    14.562890\n",
       "391     9.097637\n",
       "403     9.697514\n",
       "353    19.926311\n",
       "Name: geo_distance, Length: 440, dtype: float64"
      ]
     },
     "execution_count": 203,
     "metadata": {},
     "output_type": "execute_result"
    }
   ],
   "source": [
    "from math import sin, cos, sqrt, atan2, radians\n",
    "\n",
    "# approximate radius of earth in km\n",
    "R = 6373.0\n",
    "data['lat2'] = np.radians(data['Latitude'])\n",
    "data['lon2'] = np.radians(data['Longitude'])\n",
    "\n",
    "data['dlon'] = data['lon2'] - lon1\n",
    "data['dlat'] = data['lat2'] - lat1\n",
    "\n",
    "data['a'] = np.sin(data['dlat'] / 2)**2 + cos(lat1) * np.cos(data['lat2']) * np.sin(data['dlon'] / 2)**2\n",
    "data['c'] = 2 * np.arctan2(np.sqrt(data['a'] ), np.sqrt(1 - data['a'] ))\n",
    "\n",
    "data['geo_distance'] = R * data['c']\n",
    "\n",
    "data['geo_distance']"
   ]
  },
  {
   "cell_type": "code",
   "execution_count": 204,
   "id": "c1e1763b",
   "metadata": {
    "scrolled": true
   },
   "outputs": [
    {
     "data": {
      "text/plain": [
       "157    0.296527\n",
       "161    1.124653\n",
       "294    1.140087\n",
       "271    1.399000\n",
       "360    1.436327\n",
       "Name: geo_distance, dtype: float64"
      ]
     },
     "execution_count": 204,
     "metadata": {},
     "output_type": "execute_result"
    }
   ],
   "source": [
    "data['geo_distance'].nsmallest(5)"
   ]
  },
  {
   "cell_type": "markdown",
   "id": "d9f2000b",
   "metadata": {},
   "source": [
    "# Exploring clustering with kmeans"
   ]
  },
  {
   "cell_type": "markdown",
   "id": "890d0dbf",
   "metadata": {},
   "source": [
    "#### Distortion is the average of the euclidean squared distance from the centroid of the respective clusters. Inertia is the sum of squared distances of samples to their closest cluster centre."
   ]
  },
  {
   "cell_type": "code",
   "execution_count": 205,
   "id": "a118eabc",
   "metadata": {},
   "outputs": [],
   "source": [
    "## We try different methods to find the best combination of k and clusters"
   ]
  },
  {
   "cell_type": "code",
   "execution_count": 206,
   "id": "c0a2664d",
   "metadata": {},
   "outputs": [],
   "source": [
    "# elbow method \n",
    "#The elbow method runs k-means clustering on the dataset for a range of values for k (say from 1-10) \n",
    "#and then for each value of k computes an average score for all clusters. By default, the distortion \n",
    "#score is computed, the sum of square distances from each point to its assigned center."
   ]
  },
  {
   "cell_type": "code",
   "execution_count": 207,
   "id": "692e47bb",
   "metadata": {},
   "outputs": [],
   "source": [
    "coords = top_toilets[['Latitude','Longitude']]\n",
    "\n",
    "distortions = []\n",
    "K = range(1,100)\n",
    "for k in K:\n",
    "    kmeansModel = KMeans(n_clusters=k)\n",
    "    kmeansModel = kmeansModel.fit(coords)\n",
    "    distortions.append(kmeansModel.inertia_)"
   ]
  },
  {
   "cell_type": "code",
   "execution_count": 208,
   "id": "1162f44e",
   "metadata": {},
   "outputs": [
    {
     "data": {
      "image/png": "[encoded data removed]",
      "text/plain": [
       "<Figure size 576x360 with 1 Axes>"
      ]
     },
     "metadata": {
      "needs_background": "light"
     },
     "output_type": "display_data"
    }
   ],
   "source": [
    "fig, ax = plt.subplots(figsize=(8, 5))\n",
    "plt.plot(K, distortions, marker='o')\n",
    "plt.xlabel('k')\n",
    "plt.ylabel('Distortions')\n",
    "plt.title('Elbow Method For Optimal k')\n",
    "plt.savefig('elbow.png')\n",
    "plt.show()"
   ]
  },
  {
   "cell_type": "code",
   "execution_count": 209,
   "id": "c26f5a19",
   "metadata": {},
   "outputs": [],
   "source": [
    "# Using this method we are not getting the best results"
   ]
  },
  {
   "cell_type": "code",
   "execution_count": 210,
   "id": "9c9c0813",
   "metadata": {},
   "outputs": [],
   "source": [
    "# Using silhoette score to estimate the best k and number of clusters"
   ]
  },
  {
   "cell_type": "code",
   "execution_count": 211,
   "id": "b4934702",
   "metadata": {},
   "outputs": [],
   "source": [
    "from sklearn.metrics import silhouette_score\n",
    "\n",
    "sil = []\n",
    "kmax = 50\n",
    "\n",
    "# dissimilarity would not be defined for a single cluster, thus, minimum number of clusters should be 2\n",
    "for k in range(2, kmax+1):\n",
    "    kmeans = KMeans(n_clusters = k).fit(coords)\n",
    "    labels = kmeans.labels_\n",
    "    sil.append(silhouette_score(coords, labels, metric = 'euclidean'))"
   ]
  },
  {
   "cell_type": "code",
   "execution_count": 212,
   "id": "e79379f3",
   "metadata": {},
   "outputs": [
    {
     "data": {
      "text/plain": [
       "[0.43360304627202584,\n",
       " 0.4068879491965521,\n",
       " 0.35807052851407906,\n",
       " 0.37443738823815576,\n",
       " 0.34084651038275277,\n",
       " 0.349369952936406,\n",
       " 0.33194640256110275,\n",
       " 0.36066378933948456,\n",
       " 0.3674135631421144,\n",
       " 0.3597685025415803,\n",
       " 0.3679952093595265,\n",
       " 0.3580778899773875,\n",
       " 0.35465007343734917,\n",
       " 0.36834581791978266,\n",
       " 0.378490307669744,\n",
       " 0.3740514918144709,\n",
       " 0.37708968470064863,\n",
       " 0.37956710165796026,\n",
       " 0.3858079606075616,\n",
       " 0.37233132128491014,\n",
       " 0.37822511599788594,\n",
       " 0.3893020317504123,\n",
       " 0.36876908880213183,\n",
       " 0.3742229648029054,\n",
       " 0.3788302976255783,\n",
       " 0.3708085280392472,\n",
       " 0.38112911104344016,\n",
       " 0.38603161816680903,\n",
       " 0.37943142082880094,\n",
       " 0.37683441710549215,\n",
       " 0.3811784613438789,\n",
       " 0.39326387418914693,\n",
       " 0.38076095885758654,\n",
       " 0.39297669117701356,\n",
       " 0.39397806330191537,\n",
       " 0.39285934933410305,\n",
       " 0.38380402975572464,\n",
       " 0.3976972773802961,\n",
       " 0.3830111366265281,\n",
       " 0.39684991229487643,\n",
       " 0.39471958860087786,\n",
       " 0.3927824901491579,\n",
       " 0.3999484551615568,\n",
       " 0.39243148619319923,\n",
       " 0.40449951083885416,\n",
       " 0.3995682547773971,\n",
       " 0.4032578105033716,\n",
       " 0.4016165043525817,\n",
       " 0.4080990729701147]"
      ]
     },
     "execution_count": 212,
     "metadata": {},
     "output_type": "execute_result"
    }
   ],
   "source": [
    "sil"
   ]
  },
  {
   "cell_type": "code",
   "execution_count": 213,
   "id": "72ff2caa",
   "metadata": {},
   "outputs": [],
   "source": [
    "# 98 has the highest silhouete score"
   ]
  },
  {
   "cell_type": "code",
   "execution_count": 214,
   "id": "83b89d0c",
   "metadata": {},
   "outputs": [
    {
     "name": "stdout",
     "output_type": "stream",
     "text": [
      "k = 5  silhouette_score  0.40110243529529066\n"
     ]
    }
   ],
   "source": [
    "kmeans = KMeans(n_clusters=98, init='k-means++')\n",
    "kmeans.fit(coords)\n",
    "y = kmeans.labels_\n",
    "print(\"k = 5\", \" silhouette_score \", silhouette_score(coords, y, metric='euclidean'))"
   ]
  },
  {
   "cell_type": "code",
   "execution_count": 215,
   "id": "9145cbc4",
   "metadata": {},
   "outputs": [
    {
     "data": {
      "text/html": [
       "<div>\n",
       "<style scoped>\n",
       "    .dataframe tbody tr th:only-of-type {\n",
       "        vertical-align: middle;\n",
       "    }\n",
       "\n",
       "    .dataframe tbody tr th {\n",
       "        vertical-align: top;\n",
       "    }\n",
       "\n",
       "    .dataframe thead th {\n",
       "        text-align: right;\n",
       "    }\n",
       "</style>\n",
       "<table border=\"1\" class=\"dataframe\">\n",
       "  <thead>\n",
       "    <tr style=\"text-align: right;\">\n",
       "      <th></th>\n",
       "      <th>LavatoryID</th>\n",
       "      <th>Description</th>\n",
       "      <th>City</th>\n",
       "      <th>Street</th>\n",
       "      <th>opening_hours</th>\n",
       "      <th>street_address</th>\n",
       "      <th>PostalCode</th>\n",
       "      <th>Country</th>\n",
       "      <th>Longitude</th>\n",
       "      <th>Latitude</th>\n",
       "      <th>...</th>\n",
       "      <th>hasUrinal</th>\n",
       "      <th>ratings</th>\n",
       "      <th>lat2</th>\n",
       "      <th>lon2</th>\n",
       "      <th>dlon</th>\n",
       "      <th>dlat</th>\n",
       "      <th>a</th>\n",
       "      <th>c</th>\n",
       "      <th>geo_distance</th>\n",
       "      <th>cluster</th>\n",
       "    </tr>\n",
       "  </thead>\n",
       "  <tbody>\n",
       "    <tr>\n",
       "      <th>96</th>\n",
       "      <td>Wall_120496</td>\n",
       "      <td>Wall CT, Landsberger Allee</td>\n",
       "      <td>Berlin</td>\n",
       "      <td>Landsberger Allee   (0-24 Uhr)</td>\n",
       "      <td>0:00-24:00</td>\n",
       "      <td>Landsberger Allee</td>\n",
       "      <td>10369</td>\n",
       "      <td>Deutschland</td>\n",
       "      <td>13.470695</td>\n",
       "      <td>52.531008</td>\n",
       "      <td>...</td>\n",
       "      <td>Yes</td>\n",
       "      <td>30</td>\n",
       "      <td>0.916839</td>\n",
       "      <td>0.235108</td>\n",
       "      <td>0.001642</td>\n",
       "      <td>0.000079</td>\n",
       "      <td>2.509964e-07</td>\n",
       "      <td>0.001002</td>\n",
       "      <td>6.385688</td>\n",
       "      <td>40</td>\n",
       "    </tr>\n",
       "    <tr>\n",
       "      <th>231</th>\n",
       "      <td>Wall_123496</td>\n",
       "      <td>Wall CT, Dominicusstr.</td>\n",
       "      <td>Berlin</td>\n",
       "      <td>Dominicusstr. 16-18 (0-24 Uhr)</td>\n",
       "      <td>0:00-24:00</td>\n",
       "      <td>Dominicusstr. 16-18</td>\n",
       "      <td>10825</td>\n",
       "      <td>Deutschland</td>\n",
       "      <td>13.346706</td>\n",
       "      <td>52.482408</td>\n",
       "      <td>...</td>\n",
       "      <td>Yes</td>\n",
       "      <td>30</td>\n",
       "      <td>0.915991</td>\n",
       "      <td>0.232944</td>\n",
       "      <td>-0.000522</td>\n",
       "      <td>-0.000769</td>\n",
       "      <td>1.730481e-07</td>\n",
       "      <td>0.000832</td>\n",
       "      <td>5.302215</td>\n",
       "      <td>14</td>\n",
       "    </tr>\n",
       "    <tr>\n",
       "      <th>236</th>\n",
       "      <td>Wall_123501</td>\n",
       "      <td>Wall CT, Rennbahnstr.</td>\n",
       "      <td>Berlin</td>\n",
       "      <td>Rennbahnstr. ggü. 1-2 (0-24 Uhr)</td>\n",
       "      <td>0:00-24:00</td>\n",
       "      <td>Rennbahnstr. ggü. 1-2</td>\n",
       "      <td>13086</td>\n",
       "      <td>Deutschland</td>\n",
       "      <td>13.465894</td>\n",
       "      <td>52.557197</td>\n",
       "      <td>...</td>\n",
       "      <td>Yes</td>\n",
       "      <td>30</td>\n",
       "      <td>0.917296</td>\n",
       "      <td>0.235024</td>\n",
       "      <td>0.001558</td>\n",
       "      <td>0.000536</td>\n",
       "      <td>2.964212e-07</td>\n",
       "      <td>0.001089</td>\n",
       "      <td>6.939506</td>\n",
       "      <td>38</td>\n",
       "    </tr>\n",
       "    <tr>\n",
       "      <th>289</th>\n",
       "      <td>Wall_125237</td>\n",
       "      <td>Wall CT, Afrikanische Str.</td>\n",
       "      <td>Berlin</td>\n",
       "      <td>Afrikanische Str. ggü. 92 (0-24 Uhr)</td>\n",
       "      <td>0:00-24:00</td>\n",
       "      <td>Afrikanische Str. ggü. 92</td>\n",
       "      <td>13351</td>\n",
       "      <td>Deutschland</td>\n",
       "      <td>13.336537</td>\n",
       "      <td>52.552641</td>\n",
       "      <td>...</td>\n",
       "      <td>Yes</td>\n",
       "      <td>30</td>\n",
       "      <td>0.917217</td>\n",
       "      <td>0.232766</td>\n",
       "      <td>-0.000700</td>\n",
       "      <td>0.000457</td>\n",
       "      <td>9.746236e-08</td>\n",
       "      <td>0.000624</td>\n",
       "      <td>3.979169</td>\n",
       "      <td>33</td>\n",
       "    </tr>\n",
       "    <tr>\n",
       "      <th>253</th>\n",
       "      <td>Wall_123871</td>\n",
       "      <td>Wall CT, Nettelbeckplatz, Gerichtstr.</td>\n",
       "      <td>Berlin</td>\n",
       "      <td>Nettelbeckplatz, Gerichtstr. 31 (0-24 Uhr)</td>\n",
       "      <td>0:00-24:00</td>\n",
       "      <td>Nettelbeckplatz, Gerichtstr. 31</td>\n",
       "      <td>13347</td>\n",
       "      <td>Deutschland</td>\n",
       "      <td>13.368579</td>\n",
       "      <td>52.544878</td>\n",
       "      <td>...</td>\n",
       "      <td>Yes</td>\n",
       "      <td>30</td>\n",
       "      <td>0.917081</td>\n",
       "      <td>0.233326</td>\n",
       "      <td>-0.000140</td>\n",
       "      <td>0.000321</td>\n",
       "      <td>2.765277e-08</td>\n",
       "      <td>0.000333</td>\n",
       "      <td>2.119548</td>\n",
       "      <td>88</td>\n",
       "    </tr>\n",
       "  </tbody>\n",
       "</table>\n",
       "<p>5 rows × 28 columns</p>\n",
       "</div>"
      ],
      "text/plain": [
       "      LavatoryID                            Description    City  \\\n",
       "96   Wall_120496             Wall CT, Landsberger Allee  Berlin   \n",
       "231  Wall_123496                 Wall CT, Dominicusstr.  Berlin   \n",
       "236  Wall_123501                  Wall CT, Rennbahnstr.  Berlin   \n",
       "289  Wall_125237             Wall CT, Afrikanische Str.  Berlin   \n",
       "253  Wall_123871  Wall CT, Nettelbeckplatz, Gerichtstr.  Berlin   \n",
       "\n",
       "                                         Street opening_hours  \\\n",
       "96               Landsberger Allee   (0-24 Uhr)    0:00-24:00   \n",
       "231              Dominicusstr. 16-18 (0-24 Uhr)    0:00-24:00   \n",
       "236            Rennbahnstr. ggü. 1-2 (0-24 Uhr)    0:00-24:00   \n",
       "289        Afrikanische Str. ggü. 92 (0-24 Uhr)    0:00-24:00   \n",
       "253  Nettelbeckplatz, Gerichtstr. 31 (0-24 Uhr)    0:00-24:00   \n",
       "\n",
       "                       street_address PostalCode      Country  Longitude  \\\n",
       "96               Landsberger Allee         10369  Deutschland  13.470695   \n",
       "231              Dominicusstr. 16-18       10825  Deutschland  13.346706   \n",
       "236            Rennbahnstr. ggü. 1-2       13086  Deutschland  13.465894   \n",
       "289        Afrikanische Str. ggü. 92       13351  Deutschland  13.336537   \n",
       "253  Nettelbeckplatz, Gerichtstr. 31       13347  Deutschland  13.368579   \n",
       "\n",
       "      Latitude  ... hasUrinal ratings      lat2      lon2      dlon      dlat  \\\n",
       "96   52.531008  ...       Yes      30  0.916839  0.235108  0.001642  0.000079   \n",
       "231  52.482408  ...       Yes      30  0.915991  0.232944 -0.000522 -0.000769   \n",
       "236  52.557197  ...       Yes      30  0.917296  0.235024  0.001558  0.000536   \n",
       "289  52.552641  ...       Yes      30  0.917217  0.232766 -0.000700  0.000457   \n",
       "253  52.544878  ...       Yes      30  0.917081  0.233326 -0.000140  0.000321   \n",
       "\n",
       "                a         c geo_distance  cluster  \n",
       "96   2.509964e-07  0.001002     6.385688       40  \n",
       "231  1.730481e-07  0.000832     5.302215       14  \n",
       "236  2.964212e-07  0.001089     6.939506       38  \n",
       "289  9.746236e-08  0.000624     3.979169       33  \n",
       "253  2.765277e-08  0.000333     2.119548       88  \n",
       "\n",
       "[5 rows x 28 columns]"
      ]
     },
     "execution_count": 215,
     "metadata": {},
     "output_type": "execute_result"
    }
   ],
   "source": [
    "top_toilets['cluster'] = kmeans.predict(top_toilets[['Latitude','Longitude']])\n",
    "top_toilets.head()"
   ]
  },
  {
   "cell_type": "code",
   "execution_count": 216,
   "id": "2a80221d",
   "metadata": {},
   "outputs": [],
   "source": [
    "def recommend_toilets(df, latitude, longitude, filter):\n",
    "\n",
    "  filtered_toilets= df.sort_values(by=['geo_distance'], ascending=True)\n",
    "  if filter=='Free':\n",
    "    return  filtered_toilets[(filtered_toilets['Price']=='0,00')].iloc[0:4][['LavatoryID', 'Latitude','Longitude',\n",
    "                                                                        'geo_distance','cluster','ratings']]\n",
    "  elif filter=='Handicapped':\n",
    "    return  filtered_toilets[(filtered_toilets['isHandicappedAccessible']=='1')].iloc[0:4][['LavatoryID', 'Latitude','Longitude',\n",
    "                                                                        'geo_distance','cluster','ratings']]\n",
    "  else: \n",
    "        # Predict the cluster for longitude and latitude provided\n",
    "    cluster = kmeans.predict(np.array([latitude,longitude]).reshape(1,-1))[0]\n",
    "    print(cluster)\n",
    "    # Get the best toilet in this cluster\n",
    "    return  df[(df['cluster']==cluster)].iloc[0:4][['LavatoryID', 'Latitude','Longitude',\n",
    "                                                                        'geo_distance','cluster','ratings']] \n",
    "# def recommend_toilets(df, latitude, longitude):\n",
    "#     # Predict the cluster for longitude and latitude provided\n",
    "#     cluster = kmeans.predict(np.array([latitude,longitude]).reshape(1,-1))[0]\n",
    "#     print(cluster)\n",
    "   \n",
    "#     # Get the best toilet in this cluster\n",
    "#     return  df[df['cluster']==cluster].iloc[0:5][['LavatoryID', 'Latitude','Longitude','geo_distance','cluster','ratings']]"
   ]
  },
  {
   "cell_type": "code",
   "execution_count": 217,
   "id": "09f1206c",
   "metadata": {},
   "outputs": [
    {
     "data": {
      "application/vnd.plotly.v1+json": {
       "config": {
        "plotlyServerURL": "https://plot.ly"
       },
       "data": [
        {
         "hovertemplate": "Latitude=%{lat}<br>Longitude=%{lon}<br>cluster=%{marker.color}<extra></extra>",
         "lat": [
          52.5310082107,
          52.4824081883314,
          52.5571969543997,
          52.5526408835019,
          52.5448781562188,
          52.4884851121927,
          52.5702539545699,
          52.4509071806212,
          52.5526148501705,
          52.5388727382655,
          52.4703125033872,
          52.5555743891318,
          52.5335952903103,
          52.500842056772,
          52.4453261764499,
          52.5076197422,
          52.50307,
          52.4321597279235,
          52.4844544115752,
          52.480497,
          52.4888602334729,
          52.4893568193436,
          52.526093090526,
          52.5194673259,
          52.5302015810798,
          52.3758170027,
          52.537351114776,
          52.50302,
          52.5121956483398,
          52.5243949890137,
          52.544367,
          52.492378564872,
          52.5503828539617,
          52.51505,
          52.5880929133972,
          52.5396036363434,
          52.5501501894777,
          52.4825517916,
          52.5355833506877,
          52.6356555785213,
          52.4646370786482,
          52.5161478405709,
          52.4339902002955,
          52.5634530168107,
          52.4225198402077,
          52.4577762018818,
          52.4352336748842,
          52.5114773654,
          52.557039819952,
          52.5486516611904,
          52.4928459919693,
          52.5695241873745,
          52.4900209572925,
          52.5119161279725,
          52.5563725357538,
          52.5041142935016,
          52.5428997393468,
          52.521999592,
          52.4158088417092,
          52.51879627,
          52.5106228525806,
          52.511231535323,
          52.4975044587666,
          52.4175685677034,
          52.4874667583911,
          52.5636304223902,
          52.45068359375,
          52.6074480821728,
          52.5733301033486,
          52.4537512566632,
          52.5414239496499,
          52.5926752474714,
          52.5271156463647,
          52.487504,
          52.5975450801601,
          52.525505,
          52.4656852997629,
          52.5447483688373,
          52.4952979658526,
          52.5644287994933,
          52.4974583856643,
          52.5014806902,
          52.5806731668297,
          52.4309018915121,
          52.4585530612939,
          52.4238378901859,
          52.6209848295185,
          52.4842403167076,
          52.5079000373,
          52.5414832231387,
          52.4464949716756,
          52.5677931494833,
          52.5560486511468,
          52.4389576397892,
          52.4695434114471,
          52.6169709008111,
          52.3877787779863,
          52.4757516888295,
          52.5102541197335,
          52.617635,
          52.5632981645931,
          52.4498735995252,
          52.5082658170487,
          52.5135019050001,
          52.53625419,
          52.4423428716787,
          52.4969068236383,
          52.5470043,
          52.4625187173942,
          52.4879542644958,
          52.457726,
          52.4799133489629,
          52.4998790525937,
          52.54864128,
          52.5289575745279,
          52.4678621065571,
          52.5114461688103,
          52.4477105502961,
          52.4927579527105,
          52.4443831917401,
          52.5025959448193,
          52.4913189204374,
          52.5220686957113,
          52.4214722222222,
          52.4562019343766,
          52.5444722222222,
          52.5184722222222,
          52.4506666666667,
          52.40732,
          52.52125,
          52.5462708976409,
          52.4839311125327,
          52.5033765935473,
          52.4868815190053,
          52.5561112917,
          52.51376,
          52.4787140672384,
          52.5662451876929,
          52.46054,
          52.50165,
          52.50263,
          52.4052645026022,
          52.4538987930298,
          52.4825703835906,
          52.4955882745094,
          52.5294911931032,
          52.473386,
          52.512298,
          52.4136329302284,
          52.5332222222222,
          52.4407777777778,
          52.44775,
          52.4895277777778,
          52.5467222222222,
          52.576,
          52.5065,
          52.5335277777778,
          52.438695,
          52.6161388888889,
          52.4885277777778,
          52.5142361111111,
          52.4426666666667,
          52.51746,
          52.453581173,
          52.4817,
          52.4948779984,
          52.5481660046952,
          52.5397777777778,
          52.4740718987721,
          52.5358189594,
          52.4401587349364,
          52.4843251564501,
          52.5294186207121,
          52.430962,
          52.45369117,
          52.6017976809476,
          52.494013819,
          52.5024676291825,
          52.5639195878818,
          52.4876315049,
          52.5455958200139,
          52.5116668951405,
          52.4927440515212,
          52.4559113902088,
          52.5133486477395,
          52.5024718651538,
          52.5273350766078,
          52.5237523272412,
          52.4585928594435,
          52.4725628119395,
          52.4390817378726,
          52.473324575463,
          52.4864769487566,
          52.4525249986595,
          52.4793007169352,
          52.4200935571602,
          52.5898527733733,
          52.5141666666667,
          52.5330296726165,
          52.4775845145735,
          52.5163720170624,
          52.5055704086,
          52.490534,
          52.5368611111111,
          52.493104,
          52.4979512797239,
          52.496171,
          52.518103395511,
          52.4157503816374,
          52.4661676648,
          52.463965,
          52.5051426657702,
          52.5066660776828,
          52.487212,
          52.4737141412463,
          52.5059394836426,
          52.559323179666,
          52.5458669801,
          52.40715,
          52.4624469506412,
          52.4401584741876,
          52.5700993692982,
          52.4990992941424,
          52.5166091918945,
          52.54789,
          52.46053,
          52.49827,
          52.4440958254491,
          52.52585,
          52.43837,
          52.509679,
          52.4660014651421,
          52.4292302962647,
          52.563092080077,
          52.460396974104,
          52.5707777777778,
          52.525284,
          52.5488398803196,
          52.5852222222222,
          52.4365068880875,
          52.4875,
          52.5753888888889,
          52.5564239244338,
          52.5033333333333,
          52.4718055555556,
          52.512991,
          52.48288,
          52.4967472259807,
          52.5249959545972,
          52.427696,
          52.4938516883151,
          52.5274148885999,
          52.501269,
          52.4134984395888,
          52.459607642313,
          52.5235085677499,
          52.4950580656832,
          52.55375525,
          52.4956702562474,
          52.5131466112857,
          52.5890975626873,
          52.4832689530681,
          52.5698739180807,
          52.4971413116517,
          52.5319120500029,
          52.5480862995809,
          52.5673817861734,
          52.5700993571902,
          52.5134202058,
          52.4226602135946,
          52.4813251482,
          52.4739891831512,
          52.4221482664283,
          52.478802,
          52.6319858039,
          52.4397523119659,
          52.4999602368727,
          52.43443,
          52.5155974505231,
          52.512951358555,
          52.505252,
          52.4109872979,
          52.5279683889736,
          52.5129007399651,
          52.4489334009141,
          52.5244093736923,
          52.44318,
          52.4966697692871,
          52.555437,
          52.5383333333333,
          52.500953,
          52.5430526733398,
          52.4967185513892,
          52.4031933809009,
          52.5025964081577,
          52.615670613826,
          52.4835112715184,
          52.5026830728314,
          52.3943384481725,
          52.4458917399195,
          52.5319477065682,
          52.5467650349,
          52.4639879814489,
          52.5045811099071,
          52.3865178510777,
          52.5160934953208,
          52.4971543225881,
          52.4989927697972,
          52.52773,
          52.5255277777778,
          52.5106971566647,
          52.518999597,
          52.4949136718795,
          52.4917661055929,
          52.4971951837104,
          52.3969145123976,
          52.4894935876301,
          52.5378742065812,
          52.47019,
          52.5371567693436,
          52.5156735344464,
          52.5313386636362,
          52.521463,
          52.68761,
          52.5324444444444,
          52.4545833333333,
          52.4348055555555,
          52.4324166666667,
          52.5121801,
          52.4956111111111,
          52.5641666666667,
          52.46336,
          52.51562,
          52.5681388888889,
          52.4689722222222,
          52.4934218571887,
          52.4855187228924,
          52.5306179217177,
          52.55272,
          52.4586232287516,
          52.44044,
          52.4539572010694,
          52.5399027777778,
          52.5155555555556,
          52.4711944444445,
          52.590697,
          52.52926371287,
          52.4715555555556,
          52.482874,
          52.5101666666667,
          52.5163333333333,
          52.54892,
          52.4672367895227,
          52.459251,
          52.5996651754162,
          52.51849,
          52.5127077113696,
          52.4786755758,
          52.4973898356451,
          52.6061583533857,
          52.457269514,
          52.6071445264468,
          52.470273,
          52.4588468714187,
          52.5106318769395,
          52.4769410549611,
          52.5605417184784,
          52.413678,
          52.5199553504883,
          52.4790069600456,
          52.5208672435587,
          52.5354700822998,
          52.4890646412465,
          52.4510085070607,
          52.55067675,
          52.5414339921,
          52.5078805,
          52.5416111409171,
          52.5598340819584,
          52.5485198695108,
          52.5393854731,
          52.570240401001,
          52.564692682345,
          52.4658911727311,
          52.5376388888889,
          52.5049444444444,
          52.4847988958708,
          52.4493237907658,
          52.49629,
          52.43754,
          52.49502,
          52.4457534249883,
          52.4713,
          52.475975546113,
          52.4234425105647,
          52.5252770045916,
          52.4952007682188,
          52.5556295745794,
          52.5136111111111,
          52.5126111111111,
          52.4695,
          52.5591910847752,
          52.5148825012018,
          52.52585,
          52.4373611111111,
          52.4281344434783,
          52.4214775765321,
          52.486669230614,
          52.56961,
          52.473363,
          52.4970888408983,
          52.5440106203007,
          52.51064618,
          52.5031,
          52.4379475873976,
          52.4794,
          52.47681,
          52.49824,
          52.4920379163595,
          52.5217602324643,
          52.5616666666667,
          52.5378472222222,
          52.5853888888889,
          52.4066289464557,
          52.5142222222222,
          52.5488398803196,
          52.4793,
          52.4466969723662,
          52.4698333333333,
          52.46125,
          52.5943611111111,
          52.43684,
          52.481146,
          52.4803627550213,
          52.4450703061898,
          52.4311522292827,
          52.4209827871531,
          52.60806631731,
          52.4588973045787,
          52.4293888888889
         ],
         "legendgroup": "",
         "lon": [
          13.4706950203,
          13.3467060287756,
          13.4658943730161,
          13.3365372138437,
          13.3685793952837,
          13.3379572238377,
          13.4073465278231,
          13.269614775171,
          13.4662555638586,
          13.4813166509108,
          13.4643174809262,
          13.4587438498199,
          13.4371079873968,
          13.4434936687943,
          13.5738106656173,
          13.4506315673,
          13.424531,
          13.3477631316314,
          13.4171361642608,
          13.33693,
          13.439041275332,
          13.3775997545708,
          13.3480949658845,
          13.3998980761,
          13.3011954497467,
          13.6493298625,
          13.2077640060379,
          13.48398,
          13.240826986444,
          13.4655294418335,
          13.549245,
          13.5075727419539,
          13.3515952183918,
          13.50882,
          13.2885526718782,
          13.5889935903744,
          13.2102945837695,
          13.6011724568,
          13.4170250013635,
          13.494606453114,
          13.5138909063174,
          13.2601504282416,
          13.5201486064444,
          13.3586228154509,
          13.3710977471902,
          13.5417987687468,
          13.2746496548478,
          13.4345572862,
          13.3722521965853,
          13.5052929214559,
          13.4318183693879,
          13.3888560301798,
          13.4809014934618,
          13.6124389966236,
          13.3936098132465,
          13.391282801748,
          13.4186597605807,
          13.400429357,
          13.4977403163385,
          13.290356505,
          13.2368291260182,
          13.4690242763962,
          13.4786084171703,
          13.3048687553929,
          13.464374587928,
          13.3648361228867,
          13.3428182601929,
          13.3647160616319,
          13.5046711288011,
          13.1439183848348,
          13.3990246522732,
          13.269153981268,
          13.4273933717382,
          13.263703,
          13.3323362320875,
          13.240857,
          13.3261596400353,
          13.3905134110447,
          13.299396643694,
          13.504097989773,
          13.5227291739323,
          13.31733472,
          13.4002351085133,
          13.3093156903864,
          13.3491057199504,
          13.4631797599315,
          13.3587134690709,
          13.3868324212871,
          13.4639155114,
          13.4382226755741,
          13.5628400782931,
          13.5134186492035,
          13.3839865758039,
          13.3431152369142,
          13.3415016338287,
          13.3133593201459,
          13.4101617301817,
          13.2904180558149,
          13.2909287253553,
          13.48851,
          13.3709050422555,
          13.3665367675903,
          13.4139043287576,
          13.5208341459128,
          13.29402034,
          13.2401710897821,
          13.345158579948,
          13.3586066,
          13.4182252628035,
          13.3453017022547,
          13.62535,
          13.4284121007425,
          13.3630616908073,
          13.42089017,
          13.3781628439159,
          13.4314583180754,
          13.4473361604833,
          13.4402238234256,
          13.3690376999477,
          13.3856663883506,
          13.3778775491614,
          13.3658619399184,
          13.4499501599053,
          13.1762222222222,
          13.510797028292,
          13.2382777777778,
          13.4064166666667,
          13.6245833333333,
          13.59041,
          13.1631666666667,
          13.3522985517933,
          13.1835823788549,
          13.4469624913089,
          13.5667049289231,
          13.3483289012,
          13.38045,
          13.4739695463681,
          13.5200846668422,
          13.49379,
          13.18521,
          13.41514,
          13.5062657600599,
          13.4511717779569,
          13.4165756212721,
          13.4810596008142,
          13.4770118599248,
          13.292135,
          13.253641,
          13.1416478927897,
          13.3367777777778,
          13.2154722222222,
          13.2288333333333,
          13.2346944444444,
          13.3299722222222,
          13.2432222222222,
          13.2276388888889,
          13.3470138888889,
          13.386907,
          13.3076111111111,
          13.3909027777778,
          13.3484166666667,
          13.3120833333333,
          13.24938,
          13.240574813,
          13.40423,
          13.3536221927,
          13.4512367147914,
          13.3952777777778,
          13.4453848820056,
          13.6010719319,
          13.3879121808658,
          13.3528118756615,
          13.591577839657,
          13.259629,
          13.50934272,
          13.3059767323998,
          13.3250563841,
          13.3427270609067,
          13.3267155793166,
          13.4252979899,
          13.4942620699196,
          13.4007839020002,
          13.4085659005121,
          13.3759973597359,
          13.1949459985581,
          13.5042350654638,
          13.4805928464488,
          13.1464795858559,
          13.5266717549591,
          13.3279317674284,
          13.7210046415745,
          13.3092685301689,
          13.3274845332077,
          13.1489187460324,
          13.5595713172605,
          13.5166011055646,
          13.2827884563623,
          13.3915,
          13.4010517818427,
          13.4219992471315,
          13.3755391287496,
          13.3742894166,
          13.398054,
          13.2050277777778,
          13.310916,
          13.3913257043903,
          13.355023,
          13.3405823087579,
          13.5782052839105,
          13.4368558397,
          13.377623,
          13.3015037506634,
          13.4026252773467,
          13.310068,
          13.438905760934,
          13.5609083175659,
          13.3836397747329,
          13.42732495,
          13.59039,
          13.386006542689,
          13.2144458755228,
          13.5658355425444,
          13.4321678831011,
          13.3812694549561,
          13.36125,
          13.49343,
          13.44417,
          13.5749493222664,
          13.34312,
          13.25644,
          13.272577,
          13.3852609888443,
          13.3607667983602,
          13.3649827687079,
          13.4462947014778,
          13.2855277777778,
          13.23108,
          13.1648593254089,
          13.2100833333333,
          13.1992287644287,
          13.3778611111111,
          13.2191666666667,
          13.1880450308507,
          13.3308611111111,
          13.2661111111111,
          13.2435201,
          13.326417,
          13.3299735538891,
          13.3355016043326,
          13.326157,
          13.3669141154753,
          13.3306064855452,
          13.391234,
          13.3631543938859,
          13.3664741598498,
          13.4329856332671,
          13.4391568914807,
          13.41329416,
          13.4198320333,
          13.4769761791238,
          13.2725972163991,
          13.5297948664323,
          13.4969495503473,
          13.3223900106436,
          13.6033523134046,
          13.4856132711725,
          13.2107808968145,
          13.3238639955806,
          13.5549178147,
          13.4766121902363,
          13.5260174309,
          13.4493724241377,
          13.4329282995192,
          13.438141,
          13.2890079265,
          13.3920992767046,
          13.4303110155598,
          13.53926,
          13.2443537242179,
          13.2434255789804,
          13.322725,
          13.5275184661,
          13.5380301295883,
          13.5748868504834,
          13.2517663858419,
          13.1970124316781,
          13.54731,
          13.4494981765747,
          13.35593646,
          13.2011111111111,
          13.54735,
          13.411940574646,
          13.4067533804192,
          13.5285371046408,
          13.4151105784254,
          13.4711982596938,
          13.480269350458,
          13.4568589044744,
          13.4055541117744,
          13.3791709146893,
          13.4030886906136,
          13.4054260825,
          13.3782413386677,
          13.4655841638968,
          13.3984986623649,
          13.4427793052511,
          13.3669367751199,
          13.4430254284233,
          13.43486,
          13.3043888888889,
          13.4606556296341,
          13.4795858138,
          13.415129853272,
          13.4206793049899,
          13.4377054928347,
          13.3961246058486,
          13.4073584199877,
          13.4723838740929,
          13.41766,
          13.365743504824,
          13.472649347097,
          13.5910236814306,
          13.412954,
          13.17765,
          13.4128888888889,
          13.1898888888889,
          13.1650555555556,
          13.1432222222222,
          13.240781,
          13.2833333333333,
          13.3638055555556,
          13.53482,
          13.24459,
          13.2565555555556,
          13.23525,
          13.4633458852759,
          13.4800560474389,
          13.5894403548536,
          13.33705,
          13.3421494600363,
          13.21491,
          13.5142103972727,
          13.35325,
          13.3452222222222,
          13.119,
          13.283026,
          13.4435442644645,
          13.4413888888889,
          13.438239,
          13.3067361111111,
          13.3566388888889,
          13.35924,
          13.3086648230217,
          13.355711,
          13.353790066078,
          13.40631,
          13.413572565667,
          13.3434712846,
          13.3930303824613,
          13.312223524878,
          13.3214325154,
          13.4205648128286,
          13.385392,
          13.5802191173496,
          13.4993596999717,
          13.281976346854,
          13.3467597533333,
          13.574246,
          13.4610899385872,
          13.3282867070272,
          13.5884471023787,
          13.2004290600801,
          13.4511497884872,
          13.3362051601007,
          13.41343229,
          13.2056353123,
          13.306683,
          13.3699104981192,
          13.4135351693118,
          13.5701669923751,
          13.6047018253,
          13.308729673772,
          13.5244707000485,
          13.4868053644179,
          13.2054861111111,
          13.3361111111111,
          13.3440246979359,
          13.3830634293998,
          13.37306,
          13.69588,
          13.3769,
          13.5748506027751,
          13.38677,
          13.3351537042024,
          13.2963370903293,
          13.1327099066647,
          13.4415032415752,
          13.1772427123062,
          13.2306388888889,
          13.3367222222222,
          13.1981666666667,
          13.1745397596487,
          13.2490780297724,
          13.34312,
          13.4473888888889,
          13.4264469843277,
          13.4305749941639,
          13.4083137021765,
          13.28361,
          13.314755,
          13.1547684974975,
          13.4011410356316,
          13.23694025,
          13.42465,
          13.5481114664368,
          13.40995,
          13.41755,
          13.285584,
          13.4784884122379,
          13.5082753870296,
          13.2465277777778,
          13.2698888888889,
          13.2538055555556,
          13.6750723498511,
          13.2440277777778,
          13.1648593254089,
          13.40874,
          13.5845149097573,
          13.1815555555556,
          13.1154583333333,
          13.2215555555556,
          13.17935,
          13.363288,
          13.4084580865748,
          13.4318942232256,
          13.4325483478993,
          13.5039574900312,
          13.3675406354712,
          13.2861241807067,
          13.1294166666667
         ],
         "marker": {
          "color": [
           40,
           14,
           38,
           33,
           88,
           14,
           58,
           92,
           38,
           59,
           85,
           38,
           79,
           30,
           27,
           30,
           96,
           49,
           39,
           14,
           96,
           45,
           50,
           57,
           52,
           37,
           43,
           1,
           90,
           40,
           64,
           32,
           88,
           53,
           17,
           73,
           43,
           4,
           48,
           94,
           76,
           84,
           15,
           3,
           49,
           87,
           92,
           96,
           3,
           59,
           96,
           58,
           1,
           91,
           58,
           83,
           48,
           57,
           89,
           52,
           90,
           95,
           1,
           25,
           85,
           3,
           42,
           36,
           9,
           65,
           16,
           17,
           79,
           46,
           41,
           2,
           75,
           16,
           8,
           9,
           32,
           54,
           58,
           25,
           42,
           56,
           36,
           45,
           95,
           79,
           27,
           9,
           58,
           42,
           42,
           41,
           34,
           55,
           8,
           31,
           3,
           0,
           57,
           53,
           52,
           6,
           14,
           88,
           39,
           14,
           61,
           39,
           86,
           48,
           26,
           68,
           19,
           51,
           86,
           72,
           26,
           86,
           19,
           82,
           76,
           2,
           57,
           61,
           12,
           11,
           88,
           21,
           30,
           44,
           33,
           26,
           85,
           9,
           24,
           63,
           5,
           89,
           51,
           39,
           1,
           40,
           55,
           84,
           7,
           20,
           77,
           77,
           78,
           33,
           60,
           90,
           50,
           72,
           41,
           83,
           81,
           97,
           84,
           6,
           39,
           86,
           38,
           16,
           68,
           73,
           72,
           14,
           22,
           92,
           76,
           41,
           54,
           81,
           93,
           39,
           59,
           57,
           5,
           0,
           63,
           53,
           40,
           11,
           87,
           75,
           18,
           71,
           75,
           65,
           44,
           15,
           17,
           26,
           16,
           39,
           26,
           26,
           83,
           43,
           8,
           83,
           86,
           81,
           12,
           68,
           0,
           8,
           83,
           8,
           68,
           67,
           58,
           48,
           12,
           0,
           77,
           47,
           96,
           26,
           88,
           24,
           30,
           27,
           50,
           92,
           84,
           0,
           49,
           3,
           51,
           66,
           2,
           74,
           28,
           35,
           45,
           28,
           29,
           54,
           46,
           90,
           75,
           54,
           20,
           97,
           86,
           20,
           83,
           49,
           0,
           79,
           96,
           48,
           5,
           95,
           17,
           32,
           9,
           54,
           73,
           59,
           28,
           93,
           67,
           56,
           32,
           68,
           13,
           68,
           10,
           72,
           96,
           70,
           90,
           90,
           54,
           15,
           64,
           67,
           6,
           63,
           70,
           30,
           3,
           43,
           67,
           48,
           5,
           15,
           5,
           31,
           85,
           30,
           34,
           72,
           16,
           16,
           0,
           95,
           34,
           19,
           86,
           30,
           79,
           52,
           95,
           40,
           5,
           5,
           96,
           34,
           5,
           40,
           39,
           88,
           95,
           22,
           57,
           23,
           57,
           21,
           82,
           7,
           90,
           8,
           3,
           87,
           90,
           60,
           78,
           30,
           85,
           22,
           33,
           42,
           77,
           76,
           88,
           81,
           69,
           17,
           79,
           68,
           68,
           8,
           81,
           88,
           71,
           42,
           36,
           57,
           57,
           14,
           83,
           41,
           71,
           62,
           0,
           27,
           53,
           55,
           33,
           12,
           95,
           75,
           22,
           43,
           30,
           42,
           48,
           43,
           8,
           88,
           48,
           47,
           73,
           93,
           9,
           24,
           43,
           54,
           14,
           72,
           86,
           18,
           45,
           27,
           0,
           75,
           25,
           11,
           30,
           29,
           90,
           81,
           21,
           29,
           84,
           50,
           51,
           13,
           13,
           5,
           66,
           71,
           11,
           16,
           90,
           96,
           70,
           39,
           39,
           8,
           1,
           53,
           60,
           52,
           60,
           80,
           90,
           74,
           39,
           27,
           21,
           69,
           28,
           82,
           86,
           39,
           51,
           13,
           89,
           36,
           55,
           7
          ],
          "coloraxis": "coloraxis"
         },
         "mode": "markers",
         "name": "",
         "showlegend": false,
         "subplot": "mapbox",
         "type": "scattermapbox"
        }
       ],
       "layout": {
        "coloraxis": {
         "colorbar": {
          "title": {
           "text": "cluster"
          }
         },
         "colorscale": [
          [
           0,
           "#0d0887"
          ],
          [
           0.1111111111111111,
           "#46039f"
          ],
          [
           0.2222222222222222,
           "#7201a8"
          ],
          [
           0.3333333333333333,
           "#9c179e"
          ],
          [
           0.4444444444444444,
           "#bd3786"
          ],
          [
           0.5555555555555556,
           "#d8576b"
          ],
          [
           0.6666666666666666,
           "#ed7953"
          ],
          [
           0.7777777777777778,
           "#fb9f3a"
          ],
          [
           0.8888888888888888,
           "#fdca26"
          ],
          [
           1,
           "#f0f921"
          ]
         ]
        },
        "height": 400,
        "legend": {
         "tracegroupgap": 0
        },
        "mapbox": {
         "accesstoken": "pk.eyJ1Ijoic2hha2Fzb20iLCJhIjoiY2plMWg1NGFpMXZ5NjJxbjhlM2ttN3AwbiJ9.RtGYHmreKiyBfHuElgYq_w",
         "center": {
          "lat": 52.502051902897406,
          "lon": 13.382906489694642
         },
         "domain": {
          "x": [
           0,
           1
          ],
          "y": [
           0,
           1
          ]
         },
         "zoom": 3
        },
        "margin": {
         "t": 60
        },
        "template": {
         "data": {
          "bar": [
           {
            "error_x": {
             "color": "#2a3f5f"
            },
            "error_y": {
             "color": "#2a3f5f"
            },
            "marker": {
             "line": {
              "color": "#E5ECF6",
              "width": 0.5
             },
             "pattern": {
              "fillmode": "overlay",
              "size": 10,
              "solidity": 0.2
             }
            },
            "type": "bar"
           }
          ],
          "barpolar": [
           {
            "marker": {
             "line": {
              "color": "#E5ECF6",
              "width": 0.5
             },
             "pattern": {
              "fillmode": "overlay",
              "size": 10,
              "solidity": 0.2
             }
            },
            "type": "barpolar"
           }
          ],
          "carpet": [
           {
            "aaxis": {
             "endlinecolor": "#2a3f5f",
             "gridcolor": "white",
             "linecolor": "white",
             "minorgridcolor": "white",
             "startlinecolor": "#2a3f5f"
            },
            "baxis": {
             "endlinecolor": "#2a3f5f",
             "gridcolor": "white",
             "linecolor": "white",
             "minorgridcolor": "white",
             "startlinecolor": "#2a3f5f"
            },
            "type": "carpet"
           }
          ],
          "choropleth": [
           {
            "colorbar": {
             "outlinewidth": 0,
             "ticks": ""
            },
            "type": "choropleth"
           }
          ],
          "contour": [
           {
            "colorbar": {
             "outlinewidth": 0,
             "ticks": ""
            },
            "colorscale": [
             [
              0,
              "#0d0887"
             ],
             [
              0.1111111111111111,
              "#46039f"
             ],
             [
              0.2222222222222222,
              "#7201a8"
             ],
             [
              0.3333333333333333,
              "#9c179e"
             ],
             [
              0.4444444444444444,
              "#bd3786"
             ],
             [
              0.5555555555555556,
              "#d8576b"
             ],
             [
              0.6666666666666666,
              "#ed7953"
             ],
             [
              0.7777777777777778,
              "#fb9f3a"
             ],
             [
              0.8888888888888888,
              "#fdca26"
             ],
             [
              1,
              "#f0f921"
             ]
            ],
            "type": "contour"
           }
          ],
          "contourcarpet": [
           {
            "colorbar": {
             "outlinewidth": 0,
             "ticks": ""
            },
            "type": "contourcarpet"
           }
          ],
          "heatmap": [
           {
            "colorbar": {
             "outlinewidth": 0,
             "ticks": ""
            },
            "colorscale": [
             [
              0,
              "#0d0887"
             ],
             [
              0.1111111111111111,
              "#46039f"
             ],
             [
              0.2222222222222222,
              "#7201a8"
             ],
             [
              0.3333333333333333,
              "#9c179e"
             ],
             [
              0.4444444444444444,
              "#bd3786"
             ],
             [
              0.5555555555555556,
              "#d8576b"
             ],
             [
              0.6666666666666666,
              "#ed7953"
             ],
             [
              0.7777777777777778,
              "#fb9f3a"
             ],
             [
              0.8888888888888888,
              "#fdca26"
             ],
             [
              1,
              "#f0f921"
             ]
            ],
            "type": "heatmap"
           }
          ],
          "heatmapgl": [
           {
            "colorbar": {
             "outlinewidth": 0,
             "ticks": ""
            },
            "colorscale": [
             [
              0,
              "#0d0887"
             ],
             [
              0.1111111111111111,
              "#46039f"
             ],
             [
              0.2222222222222222,
              "#7201a8"
             ],
             [
              0.3333333333333333,
              "#9c179e"
             ],
             [
              0.4444444444444444,
              "#bd3786"
             ],
             [
              0.5555555555555556,
              "#d8576b"
             ],
             [
              0.6666666666666666,
              "#ed7953"
             ],
             [
              0.7777777777777778,
              "#fb9f3a"
             ],
             [
              0.8888888888888888,
              "#fdca26"
             ],
             [
              1,
              "#f0f921"
             ]
            ],
            "type": "heatmapgl"
           }
          ],
          "histogram": [
           {
            "marker": {
             "pattern": {
              "fillmode": "overlay",
              "size": 10,
              "solidity": 0.2
             }
            },
            "type": "histogram"
           }
          ],
          "histogram2d": [
           {
            "colorbar": {
             "outlinewidth": 0,
             "ticks": ""
            },
            "colorscale": [
             [
              0,
              "#0d0887"
             ],
             [
              0.1111111111111111,
              "#46039f"
             ],
             [
              0.2222222222222222,
              "#7201a8"
             ],
             [
              0.3333333333333333,
              "#9c179e"
             ],
             [
              0.4444444444444444,
              "#bd3786"
             ],
             [
              0.5555555555555556,
              "#d8576b"
             ],
             [
              0.6666666666666666,
              "#ed7953"
             ],
             [
              0.7777777777777778,
              "#fb9f3a"
             ],
             [
              0.8888888888888888,
              "#fdca26"
             ],
             [
              1,
              "#f0f921"
             ]
            ],
            "type": "histogram2d"
           }
          ],
          "histogram2dcontour": [
           {
            "colorbar": {
             "outlinewidth": 0,
             "ticks": ""
            },
            "colorscale": [
             [
              0,
              "#0d0887"
             ],
             [
              0.1111111111111111,
              "#46039f"
             ],
             [
              0.2222222222222222,
              "#7201a8"
             ],
             [
              0.3333333333333333,
              "#9c179e"
             ],
             [
              0.4444444444444444,
              "#bd3786"
             ],
             [
              0.5555555555555556,
              "#d8576b"
             ],
             [
              0.6666666666666666,
              "#ed7953"
             ],
             [
              0.7777777777777778,
              "#fb9f3a"
             ],
             [
              0.8888888888888888,
              "#fdca26"
             ],
             [
              1,
              "#f0f921"
             ]
            ],
            "type": "histogram2dcontour"
           }
          ],
          "mesh3d": [
           {
            "colorbar": {
             "outlinewidth": 0,
             "ticks": ""
            },
            "type": "mesh3d"
           }
          ],
          "parcoords": [
           {
            "line": {
             "colorbar": {
              "outlinewidth": 0,
              "ticks": ""
             }
            },
            "type": "parcoords"
           }
          ],
          "pie": [
           {
            "automargin": true,
            "type": "pie"
           }
          ],
          "scatter": [
           {
            "fillpattern": {
             "fillmode": "overlay",
             "size": 10,
             "solidity": 0.2
            },
            "type": "scatter"
           }
          ],
          "scatter3d": [
           {
            "line": {
             "colorbar": {
              "outlinewidth": 0,
              "ticks": ""
             }
            },
            "marker": {
             "colorbar": {
              "outlinewidth": 0,
              "ticks": ""
             }
            },
            "type": "scatter3d"
           }
          ],
          "scattercarpet": [
           {
            "marker": {
             "colorbar": {
              "outlinewidth": 0,
              "ticks": ""
             }
            },
            "type": "scattercarpet"
           }
          ],
          "scattergeo": [
           {
            "marker": {
             "colorbar": {
              "outlinewidth": 0,
              "ticks": ""
             }
            },
            "type": "scattergeo"
           }
          ],
          "scattergl": [
           {
            "marker": {
             "colorbar": {
              "outlinewidth": 0,
              "ticks": ""
             }
            },
            "type": "scattergl"
           }
          ],
          "scattermapbox": [
           {
            "marker": {
             "colorbar": {
              "outlinewidth": 0,
              "ticks": ""
             }
            },
            "type": "scattermapbox"
           }
          ],
          "scatterpolar": [
           {
            "marker": {
             "colorbar": {
              "outlinewidth": 0,
              "ticks": ""
             }
            },
            "type": "scatterpolar"
           }
          ],
          "scatterpolargl": [
           {
            "marker": {
             "colorbar": {
              "outlinewidth": 0,
              "ticks": ""
             }
            },
            "type": "scatterpolargl"
           }
          ],
          "scatterternary": [
           {
            "marker": {
             "colorbar": {
              "outlinewidth": 0,
              "ticks": ""
             }
            },
            "type": "scatterternary"
           }
          ],
          "surface": [
           {
            "colorbar": {
             "outlinewidth": 0,
             "ticks": ""
            },
            "colorscale": [
             [
              0,
              "#0d0887"
             ],
             [
              0.1111111111111111,
              "#46039f"
             ],
             [
              0.2222222222222222,
              "#7201a8"
             ],
             [
              0.3333333333333333,
              "#9c179e"
             ],
             [
              0.4444444444444444,
              "#bd3786"
             ],
             [
              0.5555555555555556,
              "#d8576b"
             ],
             [
              0.6666666666666666,
              "#ed7953"
             ],
             [
              0.7777777777777778,
              "#fb9f3a"
             ],
             [
              0.8888888888888888,
              "#fdca26"
             ],
             [
              1,
              "#f0f921"
             ]
            ],
            "type": "surface"
           }
          ],
          "table": [
           {
            "cells": {
             "fill": {
              "color": "#EBF0F8"
             },
             "line": {
              "color": "white"
             }
            },
            "header": {
             "fill": {
              "color": "#C8D4E3"
             },
             "line": {
              "color": "white"
             }
            },
            "type": "table"
           }
          ]
         },
         "layout": {
          "annotationdefaults": {
           "arrowcolor": "#2a3f5f",
           "arrowhead": 0,
           "arrowwidth": 1
          },
          "autotypenumbers": "strict",
          "coloraxis": {
           "colorbar": {
            "outlinewidth": 0,
            "ticks": ""
           }
          },
          "colorscale": {
           "diverging": [
            [
             0,
             "#8e0152"
            ],
            [
             0.1,
             "#c51b7d"
            ],
            [
             0.2,
             "#de77ae"
            ],
            [
             0.3,
             "#f1b6da"
            ],
            [
             0.4,
             "#fde0ef"
            ],
            [
             0.5,
             "#f7f7f7"
            ],
            [
             0.6,
             "#e6f5d0"
            ],
            [
             0.7,
             "#b8e186"
            ],
            [
             0.8,
             "#7fbc41"
            ],
            [
             0.9,
             "#4d9221"
            ],
            [
             1,
             "#276419"
            ]
           ],
           "sequential": [
            [
             0,
             "#0d0887"
            ],
            [
             0.1111111111111111,
             "#46039f"
            ],
            [
             0.2222222222222222,
             "#7201a8"
            ],
            [
             0.3333333333333333,
             "#9c179e"
            ],
            [
             0.4444444444444444,
             "#bd3786"
            ],
            [
             0.5555555555555556,
             "#d8576b"
            ],
            [
             0.6666666666666666,
             "#ed7953"
            ],
            [
             0.7777777777777778,
             "#fb9f3a"
            ],
            [
             0.8888888888888888,
             "#fdca26"
            ],
            [
             1,
             "#f0f921"
            ]
           ],
           "sequentialminus": [
            [
             0,
             "#0d0887"
            ],
            [
             0.1111111111111111,
             "#46039f"
            ],
            [
             0.2222222222222222,
             "#7201a8"
            ],
            [
             0.3333333333333333,
             "#9c179e"
            ],
            [
             0.4444444444444444,
             "#bd3786"
            ],
            [
             0.5555555555555556,
             "#d8576b"
            ],
            [
             0.6666666666666666,
             "#ed7953"
            ],
            [
             0.7777777777777778,
             "#fb9f3a"
            ],
            [
             0.8888888888888888,
             "#fdca26"
            ],
            [
             1,
             "#f0f921"
            ]
           ]
          },
          "colorway": [
           "#636efa",
           "#EF553B",
           "#00cc96",
           "#ab63fa",
           "#FFA15A",
           "#19d3f3",
           "#FF6692",
           "#B6E880",
           "#FF97FF",
           "#FECB52"
          ],
          "font": {
           "color": "#2a3f5f"
          },
          "geo": {
           "bgcolor": "white",
           "lakecolor": "white",
           "landcolor": "#E5ECF6",
           "showlakes": true,
           "showland": true,
           "subunitcolor": "white"
          },
          "hoverlabel": {
           "align": "left"
          },
          "hovermode": "closest",
          "mapbox": {
           "style": "light"
          },
          "paper_bgcolor": "white",
          "plot_bgcolor": "#E5ECF6",
          "polar": {
           "angularaxis": {
            "gridcolor": "white",
            "linecolor": "white",
            "ticks": ""
           },
           "bgcolor": "#E5ECF6",
           "radialaxis": {
            "gridcolor": "white",
            "linecolor": "white",
            "ticks": ""
           }
          },
          "scene": {
           "xaxis": {
            "backgroundcolor": "#E5ECF6",
            "gridcolor": "white",
            "gridwidth": 2,
            "linecolor": "white",
            "showbackground": true,
            "ticks": "",
            "zerolinecolor": "white"
           },
           "yaxis": {
            "backgroundcolor": "#E5ECF6",
            "gridcolor": "white",
            "gridwidth": 2,
            "linecolor": "white",
            "showbackground": true,
            "ticks": "",
            "zerolinecolor": "white"
           },
           "zaxis": {
            "backgroundcolor": "#E5ECF6",
            "gridcolor": "white",
            "gridwidth": 2,
            "linecolor": "white",
            "showbackground": true,
            "ticks": "",
            "zerolinecolor": "white"
           }
          },
          "shapedefaults": {
           "line": {
            "color": "#2a3f5f"
           }
          },
          "ternary": {
           "aaxis": {
            "gridcolor": "white",
            "linecolor": "white",
            "ticks": ""
           },
           "baxis": {
            "gridcolor": "white",
            "linecolor": "white",
            "ticks": ""
           },
           "bgcolor": "#E5ECF6",
           "caxis": {
            "gridcolor": "white",
            "linecolor": "white",
            "ticks": ""
           }
          },
          "title": {
           "x": 0.05
          },
          "xaxis": {
           "automargin": true,
           "gridcolor": "white",
           "linecolor": "white",
           "ticks": "",
           "title": {
            "standoff": 15
           },
           "zerolinecolor": "white",
           "zerolinewidth": 2
          },
          "yaxis": {
           "automargin": true,
           "gridcolor": "white",
           "linecolor": "white",
           "ticks": "",
           "title": {
            "standoff": 15
           },
           "zerolinecolor": "white",
           "zerolinewidth": 2
          }
         }
        },
        "width": 800
       }
      },
      "text/html": [
       "<div>                            <div id=\"8dbccc6a-b672-4a8b-ad50-bf9b97e827a1\" class=\"plotly-graph-div\" style=\"height:400px; width:800px;\"></div>            <script type=\"text/javascript\">                require([\"plotly\"], function(Plotly) {                    window.PLOTLYENV=window.PLOTLYENV || {};                                    if (document.getElementById(\"8dbccc6a-b672-4a8b-ad50-bf9b97e827a1\")) {                    Plotly.newPlot(                        \"8dbccc6a-b672-4a8b-ad50-bf9b97e827a1\",                        [{\"hovertemplate\":\"Latitude=%{lat}<br>Longitude=%{lon}<br>cluster=%{marker.color}<extra></extra>\",\"lat\":[52.5310082107,52.4824081883314,52.5571969543997,52.5526408835019,52.5448781562188,52.4884851121927,52.5702539545699,52.4509071806212,52.5526148501705,52.5388727382655,52.4703125033872,52.5555743891318,52.5335952903103,52.500842056772,52.4453261764499,52.5076197422,52.50307,52.4321597279235,52.4844544115752,52.480497,52.4888602334729,52.4893568193436,52.526093090526,52.5194673259,52.5302015810798,52.3758170027,52.537351114776,52.50302,52.5121956483398,52.5243949890137,52.544367,52.492378564872,52.5503828539617,52.51505,52.5880929133972,52.5396036363434,52.5501501894777,52.4825517916,52.5355833506877,52.6356555785213,52.4646370786482,52.5161478405709,52.4339902002955,52.5634530168107,52.4225198402077,52.4577762018818,52.4352336748842,52.5114773654,52.557039819952,52.5486516611904,52.4928459919693,52.5695241873745,52.4900209572925,52.5119161279725,52.5563725357538,52.5041142935016,52.5428997393468,52.521999592,52.4158088417092,52.51879627,52.5106228525806,52.511231535323,52.4975044587666,52.4175685677034,52.4874667583911,52.5636304223902,52.45068359375,52.6074480821728,52.5733301033486,52.4537512566632,52.5414239496499,52.5926752474714,52.5271156463647,52.487504,52.5975450801601,52.525505,52.4656852997629,52.5447483688373,52.4952979658526,52.5644287994933,52.4974583856643,52.5014806902,52.5806731668297,52.4309018915121,52.4585530612939,52.4238378901859,52.6209848295185,52.4842403167076,52.5079000373,52.5414832231387,52.4464949716756,52.5677931494833,52.5560486511468,52.4389576397892,52.4695434114471,52.6169709008111,52.3877787779863,52.4757516888295,52.5102541197335,52.617635,52.5632981645931,52.4498735995252,52.5082658170487,52.5135019050001,52.53625419,52.4423428716787,52.4969068236383,52.5470043,52.4625187173942,52.4879542644958,52.457726,52.4799133489629,52.4998790525937,52.54864128,52.5289575745279,52.4678621065571,52.5114461688103,52.4477105502961,52.4927579527105,52.4443831917401,52.5025959448193,52.4913189204374,52.5220686957113,52.4214722222222,52.4562019343766,52.5444722222222,52.5184722222222,52.4506666666667,52.40732,52.52125,52.5462708976409,52.4839311125327,52.5033765935473,52.4868815190053,52.5561112917,52.51376,52.4787140672384,52.5662451876929,52.46054,52.50165,52.50263,52.4052645026022,52.4538987930298,52.4825703835906,52.4955882745094,52.5294911931032,52.473386,52.512298,52.4136329302284,52.5332222222222,52.4407777777778,52.44775,52.4895277777778,52.5467222222222,52.576,52.5065,52.5335277777778,52.438695,52.6161388888889,52.4885277777778,52.5142361111111,52.4426666666667,52.51746,52.453581173,52.4817,52.4948779984,52.5481660046952,52.5397777777778,52.4740718987721,52.5358189594,52.4401587349364,52.4843251564501,52.5294186207121,52.430962,52.45369117,52.6017976809476,52.494013819,52.5024676291825,52.5639195878818,52.4876315049,52.5455958200139,52.5116668951405,52.4927440515212,52.4559113902088,52.5133486477395,52.5024718651538,52.5273350766078,52.5237523272412,52.4585928594435,52.4725628119395,52.4390817378726,52.473324575463,52.4864769487566,52.4525249986595,52.4793007169352,52.4200935571602,52.5898527733733,52.5141666666667,52.5330296726165,52.4775845145735,52.5163720170624,52.5055704086,52.490534,52.5368611111111,52.493104,52.4979512797239,52.496171,52.518103395511,52.4157503816374,52.4661676648,52.463965,52.5051426657702,52.5066660776828,52.487212,52.4737141412463,52.5059394836426,52.559323179666,52.5458669801,52.40715,52.4624469506412,52.4401584741876,52.5700993692982,52.4990992941424,52.5166091918945,52.54789,52.46053,52.49827,52.4440958254491,52.52585,52.43837,52.509679,52.4660014651421,52.4292302962647,52.563092080077,52.460396974104,52.5707777777778,52.525284,52.5488398803196,52.5852222222222,52.4365068880875,52.4875,52.5753888888889,52.5564239244338,52.5033333333333,52.4718055555556,52.512991,52.48288,52.4967472259807,52.5249959545972,52.427696,52.4938516883151,52.5274148885999,52.501269,52.4134984395888,52.459607642313,52.5235085677499,52.4950580656832,52.55375525,52.4956702562474,52.5131466112857,52.5890975626873,52.4832689530681,52.5698739180807,52.4971413116517,52.5319120500029,52.5480862995809,52.5673817861734,52.5700993571902,52.5134202058,52.4226602135946,52.4813251482,52.4739891831512,52.4221482664283,52.478802,52.6319858039,52.4397523119659,52.4999602368727,52.43443,52.5155974505231,52.512951358555,52.505252,52.4109872979,52.5279683889736,52.5129007399651,52.4489334009141,52.5244093736923,52.44318,52.4966697692871,52.555437,52.5383333333333,52.500953,52.5430526733398,52.4967185513892,52.4031933809009,52.5025964081577,52.615670613826,52.4835112715184,52.5026830728314,52.3943384481725,52.4458917399195,52.5319477065682,52.5467650349,52.4639879814489,52.5045811099071,52.3865178510777,52.5160934953208,52.4971543225881,52.4989927697972,52.52773,52.5255277777778,52.5106971566647,52.518999597,52.4949136718795,52.4917661055929,52.4971951837104,52.3969145123976,52.4894935876301,52.5378742065812,52.47019,52.5371567693436,52.5156735344464,52.5313386636362,52.521463,52.68761,52.5324444444444,52.4545833333333,52.4348055555555,52.4324166666667,52.5121801,52.4956111111111,52.5641666666667,52.46336,52.51562,52.5681388888889,52.4689722222222,52.4934218571887,52.4855187228924,52.5306179217177,52.55272,52.4586232287516,52.44044,52.4539572010694,52.5399027777778,52.5155555555556,52.4711944444445,52.590697,52.52926371287,52.4715555555556,52.482874,52.5101666666667,52.5163333333333,52.54892,52.4672367895227,52.459251,52.5996651754162,52.51849,52.5127077113696,52.4786755758,52.4973898356451,52.6061583533857,52.457269514,52.6071445264468,52.470273,52.4588468714187,52.5106318769395,52.4769410549611,52.5605417184784,52.413678,52.5199553504883,52.4790069600456,52.5208672435587,52.5354700822998,52.4890646412465,52.4510085070607,52.55067675,52.5414339921,52.5078805,52.5416111409171,52.5598340819584,52.5485198695108,52.5393854731,52.570240401001,52.564692682345,52.4658911727311,52.5376388888889,52.5049444444444,52.4847988958708,52.4493237907658,52.49629,52.43754,52.49502,52.4457534249883,52.4713,52.475975546113,52.4234425105647,52.5252770045916,52.4952007682188,52.5556295745794,52.5136111111111,52.5126111111111,52.4695,52.5591910847752,52.5148825012018,52.52585,52.4373611111111,52.4281344434783,52.4214775765321,52.486669230614,52.56961,52.473363,52.4970888408983,52.5440106203007,52.51064618,52.5031,52.4379475873976,52.4794,52.47681,52.49824,52.4920379163595,52.5217602324643,52.5616666666667,52.5378472222222,52.5853888888889,52.4066289464557,52.5142222222222,52.5488398803196,52.4793,52.4466969723662,52.4698333333333,52.46125,52.5943611111111,52.43684,52.481146,52.4803627550213,52.4450703061898,52.4311522292827,52.4209827871531,52.60806631731,52.4588973045787,52.4293888888889],\"legendgroup\":\"\",\"lon\":[13.4706950203,13.3467060287756,13.4658943730161,13.3365372138437,13.3685793952837,13.3379572238377,13.4073465278231,13.269614775171,13.4662555638586,13.4813166509108,13.4643174809262,13.4587438498199,13.4371079873968,13.4434936687943,13.5738106656173,13.4506315673,13.424531,13.3477631316314,13.4171361642608,13.33693,13.439041275332,13.3775997545708,13.3480949658845,13.3998980761,13.3011954497467,13.6493298625,13.2077640060379,13.48398,13.240826986444,13.4655294418335,13.549245,13.5075727419539,13.3515952183918,13.50882,13.2885526718782,13.5889935903744,13.2102945837695,13.6011724568,13.4170250013635,13.494606453114,13.5138909063174,13.2601504282416,13.5201486064444,13.3586228154509,13.3710977471902,13.5417987687468,13.2746496548478,13.4345572862,13.3722521965853,13.5052929214559,13.4318183693879,13.3888560301798,13.4809014934618,13.6124389966236,13.3936098132465,13.391282801748,13.4186597605807,13.400429357,13.4977403163385,13.290356505,13.2368291260182,13.4690242763962,13.4786084171703,13.3048687553929,13.464374587928,13.3648361228867,13.3428182601929,13.3647160616319,13.5046711288011,13.1439183848348,13.3990246522732,13.269153981268,13.4273933717382,13.263703,13.3323362320875,13.240857,13.3261596400353,13.3905134110447,13.299396643694,13.504097989773,13.5227291739323,13.31733472,13.4002351085133,13.3093156903864,13.3491057199504,13.4631797599315,13.3587134690709,13.3868324212871,13.4639155114,13.4382226755741,13.5628400782931,13.5134186492035,13.3839865758039,13.3431152369142,13.3415016338287,13.3133593201459,13.4101617301817,13.2904180558149,13.2909287253553,13.48851,13.3709050422555,13.3665367675903,13.4139043287576,13.5208341459128,13.29402034,13.2401710897821,13.345158579948,13.3586066,13.4182252628035,13.3453017022547,13.62535,13.4284121007425,13.3630616908073,13.42089017,13.3781628439159,13.4314583180754,13.4473361604833,13.4402238234256,13.3690376999477,13.3856663883506,13.3778775491614,13.3658619399184,13.4499501599053,13.1762222222222,13.510797028292,13.2382777777778,13.4064166666667,13.6245833333333,13.59041,13.1631666666667,13.3522985517933,13.1835823788549,13.4469624913089,13.5667049289231,13.3483289012,13.38045,13.4739695463681,13.5200846668422,13.49379,13.18521,13.41514,13.5062657600599,13.4511717779569,13.4165756212721,13.4810596008142,13.4770118599248,13.292135,13.253641,13.1416478927897,13.3367777777778,13.2154722222222,13.2288333333333,13.2346944444444,13.3299722222222,13.2432222222222,13.2276388888889,13.3470138888889,13.386907,13.3076111111111,13.3909027777778,13.3484166666667,13.3120833333333,13.24938,13.240574813,13.40423,13.3536221927,13.4512367147914,13.3952777777778,13.4453848820056,13.6010719319,13.3879121808658,13.3528118756615,13.591577839657,13.259629,13.50934272,13.3059767323998,13.3250563841,13.3427270609067,13.3267155793166,13.4252979899,13.4942620699196,13.4007839020002,13.4085659005121,13.3759973597359,13.1949459985581,13.5042350654638,13.4805928464488,13.1464795858559,13.5266717549591,13.3279317674284,13.7210046415745,13.3092685301689,13.3274845332077,13.1489187460324,13.5595713172605,13.5166011055646,13.2827884563623,13.3915,13.4010517818427,13.4219992471315,13.3755391287496,13.3742894166,13.398054,13.2050277777778,13.310916,13.3913257043903,13.355023,13.3405823087579,13.5782052839105,13.4368558397,13.377623,13.3015037506634,13.4026252773467,13.310068,13.438905760934,13.5609083175659,13.3836397747329,13.42732495,13.59039,13.386006542689,13.2144458755228,13.5658355425444,13.4321678831011,13.3812694549561,13.36125,13.49343,13.44417,13.5749493222664,13.34312,13.25644,13.272577,13.3852609888443,13.3607667983602,13.3649827687079,13.4462947014778,13.2855277777778,13.23108,13.1648593254089,13.2100833333333,13.1992287644287,13.3778611111111,13.2191666666667,13.1880450308507,13.3308611111111,13.2661111111111,13.2435201,13.326417,13.3299735538891,13.3355016043326,13.326157,13.3669141154753,13.3306064855452,13.391234,13.3631543938859,13.3664741598498,13.4329856332671,13.4391568914807,13.41329416,13.4198320333,13.4769761791238,13.2725972163991,13.5297948664323,13.4969495503473,13.3223900106436,13.6033523134046,13.4856132711725,13.2107808968145,13.3238639955806,13.5549178147,13.4766121902363,13.5260174309,13.4493724241377,13.4329282995192,13.438141,13.2890079265,13.3920992767046,13.4303110155598,13.53926,13.2443537242179,13.2434255789804,13.322725,13.5275184661,13.5380301295883,13.5748868504834,13.2517663858419,13.1970124316781,13.54731,13.4494981765747,13.35593646,13.2011111111111,13.54735,13.411940574646,13.4067533804192,13.5285371046408,13.4151105784254,13.4711982596938,13.480269350458,13.4568589044744,13.4055541117744,13.3791709146893,13.4030886906136,13.4054260825,13.3782413386677,13.4655841638968,13.3984986623649,13.4427793052511,13.3669367751199,13.4430254284233,13.43486,13.3043888888889,13.4606556296341,13.4795858138,13.415129853272,13.4206793049899,13.4377054928347,13.3961246058486,13.4073584199877,13.4723838740929,13.41766,13.365743504824,13.472649347097,13.5910236814306,13.412954,13.17765,13.4128888888889,13.1898888888889,13.1650555555556,13.1432222222222,13.240781,13.2833333333333,13.3638055555556,13.53482,13.24459,13.2565555555556,13.23525,13.4633458852759,13.4800560474389,13.5894403548536,13.33705,13.3421494600363,13.21491,13.5142103972727,13.35325,13.3452222222222,13.119,13.283026,13.4435442644645,13.4413888888889,13.438239,13.3067361111111,13.3566388888889,13.35924,13.3086648230217,13.355711,13.353790066078,13.40631,13.413572565667,13.3434712846,13.3930303824613,13.312223524878,13.3214325154,13.4205648128286,13.385392,13.5802191173496,13.4993596999717,13.281976346854,13.3467597533333,13.574246,13.4610899385872,13.3282867070272,13.5884471023787,13.2004290600801,13.4511497884872,13.3362051601007,13.41343229,13.2056353123,13.306683,13.3699104981192,13.4135351693118,13.5701669923751,13.6047018253,13.308729673772,13.5244707000485,13.4868053644179,13.2054861111111,13.3361111111111,13.3440246979359,13.3830634293998,13.37306,13.69588,13.3769,13.5748506027751,13.38677,13.3351537042024,13.2963370903293,13.1327099066647,13.4415032415752,13.1772427123062,13.2306388888889,13.3367222222222,13.1981666666667,13.1745397596487,13.2490780297724,13.34312,13.4473888888889,13.4264469843277,13.4305749941639,13.4083137021765,13.28361,13.314755,13.1547684974975,13.4011410356316,13.23694025,13.42465,13.5481114664368,13.40995,13.41755,13.285584,13.4784884122379,13.5082753870296,13.2465277777778,13.2698888888889,13.2538055555556,13.6750723498511,13.2440277777778,13.1648593254089,13.40874,13.5845149097573,13.1815555555556,13.1154583333333,13.2215555555556,13.17935,13.363288,13.4084580865748,13.4318942232256,13.4325483478993,13.5039574900312,13.3675406354712,13.2861241807067,13.1294166666667],\"marker\":{\"color\":[40,14,38,33,88,14,58,92,38,59,85,38,79,30,27,30,96,49,39,14,96,45,50,57,52,37,43,1,90,40,64,32,88,53,17,73,43,4,48,94,76,84,15,3,49,87,92,96,3,59,96,58,1,91,58,83,48,57,89,52,90,95,1,25,85,3,42,36,9,65,16,17,79,46,41,2,75,16,8,9,32,54,58,25,42,56,36,45,95,79,27,9,58,42,42,41,34,55,8,31,3,0,57,53,52,6,14,88,39,14,61,39,86,48,26,68,19,51,86,72,26,86,19,82,76,2,57,61,12,11,88,21,30,44,33,26,85,9,24,63,5,89,51,39,1,40,55,84,7,20,77,77,78,33,60,90,50,72,41,83,81,97,84,6,39,86,38,16,68,73,72,14,22,92,76,41,54,81,93,39,59,57,5,0,63,53,40,11,87,75,18,71,75,65,44,15,17,26,16,39,26,26,83,43,8,83,86,81,12,68,0,8,83,8,68,67,58,48,12,0,77,47,96,26,88,24,30,27,50,92,84,0,49,3,51,66,2,74,28,35,45,28,29,54,46,90,75,54,20,97,86,20,83,49,0,79,96,48,5,95,17,32,9,54,73,59,28,93,67,56,32,68,13,68,10,72,96,70,90,90,54,15,64,67,6,63,70,30,3,43,67,48,5,15,5,31,85,30,34,72,16,16,0,95,34,19,86,30,79,52,95,40,5,5,96,34,5,40,39,88,95,22,57,23,57,21,82,7,90,8,3,87,90,60,78,30,85,22,33,42,77,76,88,81,69,17,79,68,68,8,81,88,71,42,36,57,57,14,83,41,71,62,0,27,53,55,33,12,95,75,22,43,30,42,48,43,8,88,48,47,73,93,9,24,43,54,14,72,86,18,45,27,0,75,25,11,30,29,90,81,21,29,84,50,51,13,13,5,66,71,11,16,90,96,70,39,39,8,1,53,60,52,60,80,90,74,39,27,21,69,28,82,86,39,51,13,89,36,55,7],\"coloraxis\":\"coloraxis\"},\"mode\":\"markers\",\"name\":\"\",\"showlegend\":false,\"subplot\":\"mapbox\",\"type\":\"scattermapbox\"}],                        {\"template\":{\"data\":{\"histogram2dcontour\":[{\"type\":\"histogram2dcontour\",\"colorbar\":{\"outlinewidth\":0,\"ticks\":\"\"},\"colorscale\":[[0.0,\"#0d0887\"],[0.1111111111111111,\"#46039f\"],[0.2222222222222222,\"#7201a8\"],[0.3333333333333333,\"#9c179e\"],[0.4444444444444444,\"#bd3786\"],[0.5555555555555556,\"#d8576b\"],[0.6666666666666666,\"#ed7953\"],[0.7777777777777778,\"#fb9f3a\"],[0.8888888888888888,\"#fdca26\"],[1.0,\"#f0f921\"]]}],\"choropleth\":[{\"type\":\"choropleth\",\"colorbar\":{\"outlinewidth\":0,\"ticks\":\"\"}}],\"histogram2d\":[{\"type\":\"histogram2d\",\"colorbar\":{\"outlinewidth\":0,\"ticks\":\"\"},\"colorscale\":[[0.0,\"#0d0887\"],[0.1111111111111111,\"#46039f\"],[0.2222222222222222,\"#7201a8\"],[0.3333333333333333,\"#9c179e\"],[0.4444444444444444,\"#bd3786\"],[0.5555555555555556,\"#d8576b\"],[0.6666666666666666,\"#ed7953\"],[0.7777777777777778,\"#fb9f3a\"],[0.8888888888888888,\"#fdca26\"],[1.0,\"#f0f921\"]]}],\"heatmap\":[{\"type\":\"heatmap\",\"colorbar\":{\"outlinewidth\":0,\"ticks\":\"\"},\"colorscale\":[[0.0,\"#0d0887\"],[0.1111111111111111,\"#46039f\"],[0.2222222222222222,\"#7201a8\"],[0.3333333333333333,\"#9c179e\"],[0.4444444444444444,\"#bd3786\"],[0.5555555555555556,\"#d8576b\"],[0.6666666666666666,\"#ed7953\"],[0.7777777777777778,\"#fb9f3a\"],[0.8888888888888888,\"#fdca26\"],[1.0,\"#f0f921\"]]}],\"heatmapgl\":[{\"type\":\"heatmapgl\",\"colorbar\":{\"outlinewidth\":0,\"ticks\":\"\"},\"colorscale\":[[0.0,\"#0d0887\"],[0.1111111111111111,\"#46039f\"],[0.2222222222222222,\"#7201a8\"],[0.3333333333333333,\"#9c179e\"],[0.4444444444444444,\"#bd3786\"],[0.5555555555555556,\"#d8576b\"],[0.6666666666666666,\"#ed7953\"],[0.7777777777777778,\"#fb9f3a\"],[0.8888888888888888,\"#fdca26\"],[1.0,\"#f0f921\"]]}],\"contourcarpet\":[{\"type\":\"contourcarpet\",\"colorbar\":{\"outlinewidth\":0,\"ticks\":\"\"}}],\"contour\":[{\"type\":\"contour\",\"colorbar\":{\"outlinewidth\":0,\"ticks\":\"\"},\"colorscale\":[[0.0,\"#0d0887\"],[0.1111111111111111,\"#46039f\"],[0.2222222222222222,\"#7201a8\"],[0.3333333333333333,\"#9c179e\"],[0.4444444444444444,\"#bd3786\"],[0.5555555555555556,\"#d8576b\"],[0.6666666666666666,\"#ed7953\"],[0.7777777777777778,\"#fb9f3a\"],[0.8888888888888888,\"#fdca26\"],[1.0,\"#f0f921\"]]}],\"surface\":[{\"type\":\"surface\",\"colorbar\":{\"outlinewidth\":0,\"ticks\":\"\"},\"colorscale\":[[0.0,\"#0d0887\"],[0.1111111111111111,\"#46039f\"],[0.2222222222222222,\"#7201a8\"],[0.3333333333333333,\"#9c179e\"],[0.4444444444444444,\"#bd3786\"],[0.5555555555555556,\"#d8576b\"],[0.6666666666666666,\"#ed7953\"],[0.7777777777777778,\"#fb9f3a\"],[0.8888888888888888,\"#fdca26\"],[1.0,\"#f0f921\"]]}],\"mesh3d\":[{\"type\":\"mesh3d\",\"colorbar\":{\"outlinewidth\":0,\"ticks\":\"\"}}],\"scatter\":[{\"fillpattern\":{\"fillmode\":\"overlay\",\"size\":10,\"solidity\":0.2},\"type\":\"scatter\"}],\"parcoords\":[{\"type\":\"parcoords\",\"line\":{\"colorbar\":{\"outlinewidth\":0,\"ticks\":\"\"}}}],\"scatterpolargl\":[{\"type\":\"scatterpolargl\",\"marker\":{\"colorbar\":{\"outlinewidth\":0,\"ticks\":\"\"}}}],\"bar\":[{\"error_x\":{\"color\":\"#2a3f5f\"},\"error_y\":{\"color\":\"#2a3f5f\"},\"marker\":{\"line\":{\"color\":\"#E5ECF6\",\"width\":0.5},\"pattern\":{\"fillmode\":\"overlay\",\"size\":10,\"solidity\":0.2}},\"type\":\"bar\"}],\"scattergeo\":[{\"type\":\"scattergeo\",\"marker\":{\"colorbar\":{\"outlinewidth\":0,\"ticks\":\"\"}}}],\"scatterpolar\":[{\"type\":\"scatterpolar\",\"marker\":{\"colorbar\":{\"outlinewidth\":0,\"ticks\":\"\"}}}],\"histogram\":[{\"marker\":{\"pattern\":{\"fillmode\":\"overlay\",\"size\":10,\"solidity\":0.2}},\"type\":\"histogram\"}],\"scattergl\":[{\"type\":\"scattergl\",\"marker\":{\"colorbar\":{\"outlinewidth\":0,\"ticks\":\"\"}}}],\"scatter3d\":[{\"type\":\"scatter3d\",\"line\":{\"colorbar\":{\"outlinewidth\":0,\"ticks\":\"\"}},\"marker\":{\"colorbar\":{\"outlinewidth\":0,\"ticks\":\"\"}}}],\"scattermapbox\":[{\"type\":\"scattermapbox\",\"marker\":{\"colorbar\":{\"outlinewidth\":0,\"ticks\":\"\"}}}],\"scatterternary\":[{\"type\":\"scatterternary\",\"marker\":{\"colorbar\":{\"outlinewidth\":0,\"ticks\":\"\"}}}],\"scattercarpet\":[{\"type\":\"scattercarpet\",\"marker\":{\"colorbar\":{\"outlinewidth\":0,\"ticks\":\"\"}}}],\"carpet\":[{\"aaxis\":{\"endlinecolor\":\"#2a3f5f\",\"gridcolor\":\"white\",\"linecolor\":\"white\",\"minorgridcolor\":\"white\",\"startlinecolor\":\"#2a3f5f\"},\"baxis\":{\"endlinecolor\":\"#2a3f5f\",\"gridcolor\":\"white\",\"linecolor\":\"white\",\"minorgridcolor\":\"white\",\"startlinecolor\":\"#2a3f5f\"},\"type\":\"carpet\"}],\"table\":[{\"cells\":{\"fill\":{\"color\":\"#EBF0F8\"},\"line\":{\"color\":\"white\"}},\"header\":{\"fill\":{\"color\":\"#C8D4E3\"},\"line\":{\"color\":\"white\"}},\"type\":\"table\"}],\"barpolar\":[{\"marker\":{\"line\":{\"color\":\"#E5ECF6\",\"width\":0.5},\"pattern\":{\"fillmode\":\"overlay\",\"size\":10,\"solidity\":0.2}},\"type\":\"barpolar\"}],\"pie\":[{\"automargin\":true,\"type\":\"pie\"}]},\"layout\":{\"autotypenumbers\":\"strict\",\"colorway\":[\"#636efa\",\"#EF553B\",\"#00cc96\",\"#ab63fa\",\"#FFA15A\",\"#19d3f3\",\"#FF6692\",\"#B6E880\",\"#FF97FF\",\"#FECB52\"],\"font\":{\"color\":\"#2a3f5f\"},\"hovermode\":\"closest\",\"hoverlabel\":{\"align\":\"left\"},\"paper_bgcolor\":\"white\",\"plot_bgcolor\":\"#E5ECF6\",\"polar\":{\"bgcolor\":\"#E5ECF6\",\"angularaxis\":{\"gridcolor\":\"white\",\"linecolor\":\"white\",\"ticks\":\"\"},\"radialaxis\":{\"gridcolor\":\"white\",\"linecolor\":\"white\",\"ticks\":\"\"}},\"ternary\":{\"bgcolor\":\"#E5ECF6\",\"aaxis\":{\"gridcolor\":\"white\",\"linecolor\":\"white\",\"ticks\":\"\"},\"baxis\":{\"gridcolor\":\"white\",\"linecolor\":\"white\",\"ticks\":\"\"},\"caxis\":{\"gridcolor\":\"white\",\"linecolor\":\"white\",\"ticks\":\"\"}},\"coloraxis\":{\"colorbar\":{\"outlinewidth\":0,\"ticks\":\"\"}},\"colorscale\":{\"sequential\":[[0.0,\"#0d0887\"],[0.1111111111111111,\"#46039f\"],[0.2222222222222222,\"#7201a8\"],[0.3333333333333333,\"#9c179e\"],[0.4444444444444444,\"#bd3786\"],[0.5555555555555556,\"#d8576b\"],[0.6666666666666666,\"#ed7953\"],[0.7777777777777778,\"#fb9f3a\"],[0.8888888888888888,\"#fdca26\"],[1.0,\"#f0f921\"]],\"sequentialminus\":[[0.0,\"#0d0887\"],[0.1111111111111111,\"#46039f\"],[0.2222222222222222,\"#7201a8\"],[0.3333333333333333,\"#9c179e\"],[0.4444444444444444,\"#bd3786\"],[0.5555555555555556,\"#d8576b\"],[0.6666666666666666,\"#ed7953\"],[0.7777777777777778,\"#fb9f3a\"],[0.8888888888888888,\"#fdca26\"],[1.0,\"#f0f921\"]],\"diverging\":[[0,\"#8e0152\"],[0.1,\"#c51b7d\"],[0.2,\"#de77ae\"],[0.3,\"#f1b6da\"],[0.4,\"#fde0ef\"],[0.5,\"#f7f7f7\"],[0.6,\"#e6f5d0\"],[0.7,\"#b8e186\"],[0.8,\"#7fbc41\"],[0.9,\"#4d9221\"],[1,\"#276419\"]]},\"xaxis\":{\"gridcolor\":\"white\",\"linecolor\":\"white\",\"ticks\":\"\",\"title\":{\"standoff\":15},\"zerolinecolor\":\"white\",\"automargin\":true,\"zerolinewidth\":2},\"yaxis\":{\"gridcolor\":\"white\",\"linecolor\":\"white\",\"ticks\":\"\",\"title\":{\"standoff\":15},\"zerolinecolor\":\"white\",\"automargin\":true,\"zerolinewidth\":2},\"scene\":{\"xaxis\":{\"backgroundcolor\":\"#E5ECF6\",\"gridcolor\":\"white\",\"linecolor\":\"white\",\"showbackground\":true,\"ticks\":\"\",\"zerolinecolor\":\"white\",\"gridwidth\":2},\"yaxis\":{\"backgroundcolor\":\"#E5ECF6\",\"gridcolor\":\"white\",\"linecolor\":\"white\",\"showbackground\":true,\"ticks\":\"\",\"zerolinecolor\":\"white\",\"gridwidth\":2},\"zaxis\":{\"backgroundcolor\":\"#E5ECF6\",\"gridcolor\":\"white\",\"linecolor\":\"white\",\"showbackground\":true,\"ticks\":\"\",\"zerolinecolor\":\"white\",\"gridwidth\":2}},\"shapedefaults\":{\"line\":{\"color\":\"#2a3f5f\"}},\"annotationdefaults\":{\"arrowcolor\":\"#2a3f5f\",\"arrowhead\":0,\"arrowwidth\":1},\"geo\":{\"bgcolor\":\"white\",\"landcolor\":\"#E5ECF6\",\"subunitcolor\":\"white\",\"showland\":true,\"showlakes\":true,\"lakecolor\":\"white\"},\"title\":{\"x\":0.05},\"mapbox\":{\"style\":\"light\"}}},\"mapbox\":{\"domain\":{\"x\":[0.0,1.0],\"y\":[0.0,1.0]},\"center\":{\"lat\":52.502051902897406,\"lon\":13.382906489694642},\"accesstoken\":\"pk.eyJ1Ijoic2hha2Fzb20iLCJhIjoiY2plMWg1NGFpMXZ5NjJxbjhlM2ttN3AwbiJ9.RtGYHmreKiyBfHuElgYq_w\",\"zoom\":3},\"coloraxis\":{\"colorbar\":{\"title\":{\"text\":\"cluster\"}},\"colorscale\":[[0.0,\"#0d0887\"],[0.1111111111111111,\"#46039f\"],[0.2222222222222222,\"#7201a8\"],[0.3333333333333333,\"#9c179e\"],[0.4444444444444444,\"#bd3786\"],[0.5555555555555556,\"#d8576b\"],[0.6666666666666666,\"#ed7953\"],[0.7777777777777778,\"#fb9f3a\"],[0.8888888888888888,\"#fdca26\"],[1.0,\"#f0f921\"]]},\"legend\":{\"tracegroupgap\":0},\"margin\":{\"t\":60},\"height\":400,\"width\":800},                        {\"responsive\": true}                    ).then(function(){\n",
       "                            \n",
       "var gd = document.getElementById('8dbccc6a-b672-4a8b-ad50-bf9b97e827a1');\n",
       "var x = new MutationObserver(function (mutations, observer) {{\n",
       "        var display = window.getComputedStyle(gd).display;\n",
       "        if (!display || display === 'none') {{\n",
       "            console.log([gd, 'removed!']);\n",
       "            Plotly.purge(gd);\n",
       "            observer.disconnect();\n",
       "        }}\n",
       "}});\n",
       "\n",
       "// Listen for the removal of the full notebook cells\n",
       "var notebookContainer = gd.closest('#notebook-container');\n",
       "if (notebookContainer) {{\n",
       "    x.observe(notebookContainer, {childList: true});\n",
       "}}\n",
       "\n",
       "// Listen for the clearing of the current output cell\n",
       "var outputEl = gd.closest('.output');\n",
       "if (outputEl) {{\n",
       "    x.observe(outputEl, {childList: true});\n",
       "}}\n",
       "\n",
       "                        })                };                });            </script>        </div>"
      ]
     },
     "metadata": {},
     "output_type": "display_data"
    }
   ],
   "source": [
    "import plotly_express as px\n",
    "px.set_mapbox_access_token(\"pk.eyJ1Ijoic2hha2Fzb20iLCJhIjoiY2plMWg1NGFpMXZ5NjJxbjhlM2ttN3AwbiJ9.RtGYHmreKiyBfHuElgYq_w\")\n",
    "#configure_plotly_browser_state()\n",
    "px.scatter_mapbox(data, lat=\"Latitude\", lon=\"Longitude\",color=\"cluster\",size_max=30, zoom=3, width=800, height=400)"
   ]
  },
  {
   "cell_type": "code",
   "execution_count": 218,
   "id": "556949d3",
   "metadata": {},
   "outputs": [
    {
     "name": "stdout",
     "output_type": "stream",
     "text": [
      "26\n"
     ]
    },
    {
     "data": {
      "text/html": [
       "<div>\n",
       "<style scoped>\n",
       "    .dataframe tbody tr th:only-of-type {\n",
       "        vertical-align: middle;\n",
       "    }\n",
       "\n",
       "    .dataframe tbody tr th {\n",
       "        vertical-align: top;\n",
       "    }\n",
       "\n",
       "    .dataframe thead th {\n",
       "        text-align: right;\n",
       "    }\n",
       "</style>\n",
       "<table border=\"1\" class=\"dataframe\">\n",
       "  <thead>\n",
       "    <tr style=\"text-align: right;\">\n",
       "      <th></th>\n",
       "      <th>LavatoryID</th>\n",
       "      <th>Latitude</th>\n",
       "      <th>Longitude</th>\n",
       "      <th>geo_distance</th>\n",
       "      <th>cluster</th>\n",
       "      <th>ratings</th>\n",
       "    </tr>\n",
       "  </thead>\n",
       "  <tbody>\n",
       "    <tr>\n",
       "      <th>157</th>\n",
       "      <td>Wall_122531</td>\n",
       "      <td>52.528958</td>\n",
       "      <td>13.378163</td>\n",
       "      <td>0.296527</td>\n",
       "      <td>26</td>\n",
       "      <td>22</td>\n",
       "    </tr>\n",
       "    <tr>\n",
       "      <th>225</th>\n",
       "      <td>Wall_123487</td>\n",
       "      <td>52.502596</td>\n",
       "      <td>13.377878</td>\n",
       "      <td>2.655921</td>\n",
       "      <td>26</td>\n",
       "      <td>22</td>\n",
       "    </tr>\n",
       "    <tr>\n",
       "      <th>360</th>\n",
       "      <td>Fremd_1</td>\n",
       "      <td>52.513760</td>\n",
       "      <td>13.380450</td>\n",
       "      <td>1.436327</td>\n",
       "      <td>26</td>\n",
       "      <td>22</td>\n",
       "    </tr>\n",
       "    <tr>\n",
       "      <th>21</th>\n",
       "      <td>Wall_119993</td>\n",
       "      <td>52.514167</td>\n",
       "      <td>13.391500</td>\n",
       "      <td>1.698216</td>\n",
       "      <td>26</td>\n",
       "      <td>19</td>\n",
       "    </tr>\n",
       "    <tr>\n",
       "      <th>161</th>\n",
       "      <td>Wall_122575</td>\n",
       "      <td>52.516372</td>\n",
       "      <td>13.375539</td>\n",
       "      <td>1.124653</td>\n",
       "      <td>26</td>\n",
       "      <td>18</td>\n",
       "    </tr>\n",
       "  </tbody>\n",
       "</table>\n",
       "</div>"
      ],
      "text/plain": [
       "      LavatoryID   Latitude  Longitude  geo_distance  cluster  ratings\n",
       "157  Wall_122531  52.528958  13.378163      0.296527       26       22\n",
       "225  Wall_123487  52.502596  13.377878      2.655921       26       22\n",
       "360      Fremd_1  52.513760  13.380450      1.436327       26       22\n",
       "21   Wall_119993  52.514167  13.391500      1.698216       26       19\n",
       "161  Wall_122575  52.516372  13.375539      1.124653       26       18"
      ]
     },
     "execution_count": 218,
     "metadata": {},
     "output_type": "execute_result"
    }
   ],
   "source": [
    "recommend_toilets(top_toilets,52.52646152725616, 13.376623742933933)"
   ]
  },
  {
   "cell_type": "code",
   "execution_count": 219,
   "id": "075ae10c",
   "metadata": {},
   "outputs": [
    {
     "data": {
      "text/html": [
       "<div>\n",
       "<style scoped>\n",
       "    .dataframe tbody tr th:only-of-type {\n",
       "        vertical-align: middle;\n",
       "    }\n",
       "\n",
       "    .dataframe tbody tr th {\n",
       "        vertical-align: top;\n",
       "    }\n",
       "\n",
       "    .dataframe thead th {\n",
       "        text-align: right;\n",
       "    }\n",
       "</style>\n",
       "<table border=\"1\" class=\"dataframe\">\n",
       "  <thead>\n",
       "    <tr style=\"text-align: right;\">\n",
       "      <th></th>\n",
       "      <th>LavatoryID</th>\n",
       "      <th>Latitude</th>\n",
       "      <th>Longitude</th>\n",
       "      <th>geo_distance</th>\n",
       "      <th>cluster</th>\n",
       "      <th>ratings</th>\n",
       "    </tr>\n",
       "  </thead>\n",
       "  <tbody>\n",
       "    <tr>\n",
       "      <th>157</th>\n",
       "      <td>Wall_122531</td>\n",
       "      <td>52.528958</td>\n",
       "      <td>13.378163</td>\n",
       "      <td>0.296527</td>\n",
       "      <td>26</td>\n",
       "      <td>22</td>\n",
       "    </tr>\n",
       "    <tr>\n",
       "      <th>161</th>\n",
       "      <td>Wall_122575</td>\n",
       "      <td>52.516372</td>\n",
       "      <td>13.375539</td>\n",
       "      <td>1.124653</td>\n",
       "      <td>26</td>\n",
       "      <td>18</td>\n",
       "    </tr>\n",
       "    <tr>\n",
       "      <th>294</th>\n",
       "      <td>Wall_3389</td>\n",
       "      <td>52.516609</td>\n",
       "      <td>13.381269</td>\n",
       "      <td>1.140087</td>\n",
       "      <td>26</td>\n",
       "      <td>17</td>\n",
       "    </tr>\n",
       "    <tr>\n",
       "      <th>271</th>\n",
       "      <td>Wall_124364</td>\n",
       "      <td>52.537157</td>\n",
       "      <td>13.365744</td>\n",
       "      <td>1.399000</td>\n",
       "      <td>88</td>\n",
       "      <td>14</td>\n",
       "    </tr>\n",
       "    <tr>\n",
       "      <th>360</th>\n",
       "      <td>Fremd_1</td>\n",
       "      <td>52.513760</td>\n",
       "      <td>13.380450</td>\n",
       "      <td>1.436327</td>\n",
       "      <td>26</td>\n",
       "      <td>22</td>\n",
       "    </tr>\n",
       "  </tbody>\n",
       "</table>\n",
       "</div>"
      ],
      "text/plain": [
       "      LavatoryID   Latitude  Longitude  geo_distance  cluster  ratings\n",
       "157  Wall_122531  52.528958  13.378163      0.296527       26       22\n",
       "161  Wall_122575  52.516372  13.375539      1.124653       26       18\n",
       "294    Wall_3389  52.516609  13.381269      1.140087       26       17\n",
       "271  Wall_124364  52.537157  13.365744      1.399000       88       14\n",
       "360      Fremd_1  52.513760  13.380450      1.436327       26       22"
      ]
     },
     "execution_count": 219,
     "metadata": {},
     "output_type": "execute_result"
    }
   ],
   "source": [
    "near_toilets = data.sort_values(by=['geo_distance'], ascending=True)\n",
    "near_toilets.iloc[0:5][['LavatoryID', 'Latitude','Longitude','geo_distance','cluster','ratings']]"
   ]
  },
  {
   "cell_type": "code",
   "execution_count": null,
   "id": "8712ee6a",
   "metadata": {},
   "outputs": [],
   "source": []
  }
 ],
 "metadata": {
  "kernelspec": {
   "display_name": "Python 3 (ipykernel)",
   "language": "python",
   "name": "python3"
  },
  "language_info": {
   "codemirror_mode": {
    "name": "ipython",
    "version": 3
   },
   "file_extension": ".py",
   "mimetype": "text/x-python",
   "name": "python",
   "nbconvert_exporter": "python",
   "pygments_lexer": "ipython3",
   "version": "3.9.7"
  }
 },
 "nbformat": 4,
 "nbformat_minor": 5
}
