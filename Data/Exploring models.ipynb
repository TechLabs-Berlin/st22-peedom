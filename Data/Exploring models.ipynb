{
 "cells": [
  {
   "cell_type": "markdown",
   "id": "babd5c79",
   "metadata": {},
   "source": [
    "## Importing packages"
   ]
  },
  {
   "cell_type": "code",
   "execution_count": 13,
   "id": "d87fa7a7",
   "metadata": {},
   "outputs": [],
   "source": [
    "import pandas as pd\n",
    "import re\n",
    "import datetime as dt\n",
    "import numpy as np\n",
    "from sklearn.cluster import KMeans\n",
    "from sklearn.metrics import silhouette_score\n",
    "import matplotlib.pyplot as plt\n",
    "from plotnine import *\n",
    "# to avoid warnings\n",
    "import warnings\n",
    "warnings.filterwarnings('ignore')\n",
    "warnings.warn(\"this will not show\")"
   ]
  },
  {
   "cell_type": "code",
   "execution_count": 14,
   "id": "c7e080de",
   "metadata": {},
   "outputs": [],
   "source": [
    "data = pd.read_csv(\"Raw Data/top_toilets.csv\",index_col=0)\n",
    "top_toilets = data"
   ]
  },
  {
   "cell_type": "markdown",
   "id": "b67257a9",
   "metadata": {},
   "source": [
    "## Exploring geo-distance for sanity check"
   ]
  },
  {
   "cell_type": "code",
   "execution_count": 15,
   "id": "22143d71",
   "metadata": {},
   "outputs": [],
   "source": [
    "# Fake user data\n",
    "user_coordinates=[52.52646152725616, 13.376623742933933]\n",
    "lat1 = np.radians(52.52646152725616)\n",
    "lon1 = np.radians(13.376623742933933)"
   ]
  },
  {
   "cell_type": "code",
   "execution_count": 16,
   "id": "aec582c3",
   "metadata": {},
   "outputs": [
    {
     "data": {
      "text/plain": [
       "227    14.469973\n",
       "147    18.498717\n",
       "234     6.951808\n",
       "237    13.899547\n",
       "221     4.127679\n",
       "         ...    \n",
       "399    20.273074\n",
       "425    16.643116\n",
       "300     9.076911\n",
       "416    12.323595\n",
       "390    10.868235\n",
       "Name: geo_distance, Length: 455, dtype: float64"
      ]
     },
     "execution_count": 16,
     "metadata": {},
     "output_type": "execute_result"
    }
   ],
   "source": [
    "from math import sin, cos, sqrt, atan2, radians\n",
    "\n",
    "# approximate radius of earth in km\n",
    "R = 6373.0\n",
    "data['lat2'] = np.radians(data['Latitude'])\n",
    "data['lon2'] = np.radians(data['Longitude'])\n",
    "\n",
    "data['dlon'] = data['lon2'] - lon1\n",
    "data['dlat'] = data['lat2'] - lat1\n",
    "\n",
    "data['a'] = np.sin(data['dlat'] / 2)**2 + cos(lat1) * np.cos(data['lat2']) * np.sin(data['dlon'] / 2)**2\n",
    "data['c'] = 2 * np.arctan2(np.sqrt(data['a'] ), np.sqrt(1 - data['a'] ))\n",
    "\n",
    "data['geo_distance'] = R * data['c']\n",
    "\n",
    "data['geo_distance']"
   ]
  },
  {
   "cell_type": "code",
   "execution_count": 17,
   "id": "c1e1763b",
   "metadata": {
    "scrolled": true
   },
   "outputs": [
    {
     "data": {
      "text/plain": [
       "154    0.296527\n",
       "454    0.558531\n",
       "443    1.019355\n",
       "158    1.124653\n",
       "291    1.140087\n",
       "Name: geo_distance, dtype: float64"
      ]
     },
     "execution_count": 17,
     "metadata": {},
     "output_type": "execute_result"
    }
   ],
   "source": [
    "data['geo_distance'].nsmallest(5)"
   ]
  },
  {
   "cell_type": "markdown",
   "id": "d9f2000b",
   "metadata": {},
   "source": [
    "# Exploring clustering with kmeans"
   ]
  },
  {
   "cell_type": "markdown",
   "id": "890d0dbf",
   "metadata": {},
   "source": [
    "#### Distortion is the average of the euclidean squared distance from the centroid of the respective clusters. Inertia is the sum of squared distances of samples to their closest cluster centre."
   ]
  },
  {
   "cell_type": "code",
   "execution_count": 18,
   "id": "a118eabc",
   "metadata": {},
   "outputs": [],
   "source": [
    "## We try different methods to find the best combination of k and clusters"
   ]
  },
  {
   "cell_type": "code",
   "execution_count": 31,
   "id": "692e47bb",
   "metadata": {},
   "outputs": [],
   "source": [
    "# Using silhoette score to estimate the best k and number of clusters"
   ]
  },
  {
   "cell_type": "code",
   "execution_count": 21,
   "id": "7e25ac73",
   "metadata": {},
   "outputs": [
    {
     "data": {
      "image/png": "[encoded data removed]",
      "text/plain": [
       "<Figure size 432x288 with 1 Axes>"
      ]
     },
     "metadata": {
      "needs_background": "light"
     },
     "output_type": "display_data"
    },
    {
     "data": {
      "text/plain": [
       "<ggplot: (136870724858)>"
      ]
     },
     "execution_count": 21,
     "metadata": {},
     "output_type": "execute_result"
    }
   ],
   "source": [
    "coords = top_toilets[['Latitude','Longitude']]\n",
    "\n",
    "distortions = []\n",
    "sil = []\n",
    "K = range(2,100)\n",
    "for k in K:\n",
    "    kmeansModel = KMeans(n_clusters=k)\n",
    "    kmeansModel = kmeansModel.fit(coords)\n",
    "    distortions.append(kmeansModel.inertia_)\n",
    "    labels = kmeansModel.labels_\n",
    "    sil.append(silhouette_score(coords, labels,metric = 'euclidean'))\n",
    "\n",
    "sse_df =pd.DataFrame({\"K\":K,\n",
    "                      'sse':distortions,\n",
    "                      'silhouette':sil})\n",
    "(ggplot(sse_df, aes(x='K', y='silhouette'))+geom_point()+geom_line()+theme_minimal()+labs(title='silhouette score for different K values'))\n"
   ]
  },
  {
   "cell_type": "code",
   "execution_count": null,
   "id": "1e3b3c94",
   "metadata": {},
   "outputs": [],
   "source": [
    "# elbow method \n",
    "#The elbow method runs k-means clustering on the dataset for a range of values for k (say from 1-10) \n",
    "#and then for each value of k computes an average score for all clusters. By default, the distortion \n",
    "#score is computed, the sum of square distances from each point to its assigned center."
   ]
  },
  {
   "cell_type": "code",
   "execution_count": 22,
   "id": "1162f44e",
   "metadata": {},
   "outputs": [
    {
     "data": {
      "image/png": "[encoded data removed]",
      "text/plain": [
       "<Figure size 800x500 with 1 Axes>"
      ]
     },
     "metadata": {},
     "output_type": "display_data"
    }
   ],
   "source": [
    "fig, ax = plt.subplots(figsize=(8, 5))\n",
    "plt.plot(K, distortions, marker='o')\n",
    "plt.xlabel('k')\n",
    "plt.ylabel('Distortions')\n",
    "plt.title('Elbow Method For Optimal k')\n",
    "plt.savefig('elbow.png')\n",
    "plt.show()"
   ]
  },
  {
   "cell_type": "code",
   "execution_count": 23,
   "id": "c26f5a19",
   "metadata": {},
   "outputs": [],
   "source": [
    "# Using the elbow method we are not getting the best results"
   ]
  },
  {
   "cell_type": "code",
   "execution_count": 34,
   "id": "72ff2caa",
   "metadata": {},
   "outputs": [],
   "source": [
    "# We understood from the higher Silhoutte scores that, the number of clusters would be optimum in and around 75."
   ]
  },
  {
   "cell_type": "code",
   "execution_count": 33,
   "id": "83b89d0c",
   "metadata": {},
   "outputs": [
    {
     "name": "stdout",
     "output_type": "stream",
     "text": [
      "k = 75  silhouette_score  0.4047709808899906\n"
     ]
    }
   ],
   "source": [
    "kmeans = KMeans(n_clusters=75, init='k-means++')\n",
    "kmeans.fit(coords)\n",
    "y = kmeans.labels_\n",
    "print(\"k = 75\", \" silhouette_score \", silhouette_score(coords, y, metric='euclidean'))"
   ]
  },
  {
   "cell_type": "code",
   "execution_count": 29,
   "id": "9145cbc4",
   "metadata": {
    "scrolled": true
   },
   "outputs": [
    {
     "data": {
      "text/html": [
       "<div>\n",
       "<style scoped>\n",
       "    .dataframe tbody tr th:only-of-type {\n",
       "        vertical-align: middle;\n",
       "    }\n",
       "\n",
       "    .dataframe tbody tr th {\n",
       "        vertical-align: top;\n",
       "    }\n",
       "\n",
       "    .dataframe thead th {\n",
       "        text-align: right;\n",
       "    }\n",
       "</style>\n",
       "<table border=\"1\" class=\"dataframe\">\n",
       "  <thead>\n",
       "    <tr style=\"text-align: right;\">\n",
       "      <th></th>\n",
       "      <th>LavatoryID</th>\n",
       "      <th>Description</th>\n",
       "      <th>City</th>\n",
       "      <th>Street</th>\n",
       "      <th>opening_hours</th>\n",
       "      <th>street_address</th>\n",
       "      <th>PostalCode</th>\n",
       "      <th>Country</th>\n",
       "      <th>Longitude</th>\n",
       "      <th>Latitude</th>\n",
       "      <th>...</th>\n",
       "      <th>ratings</th>\n",
       "      <th>Comments</th>\n",
       "      <th>lat2</th>\n",
       "      <th>lon2</th>\n",
       "      <th>dlon</th>\n",
       "      <th>dlat</th>\n",
       "      <th>a</th>\n",
       "      <th>c</th>\n",
       "      <th>geo_distance</th>\n",
       "      <th>cluster</th>\n",
       "    </tr>\n",
       "  </thead>\n",
       "  <tbody>\n",
       "    <tr>\n",
       "      <th>227</th>\n",
       "      <td>Wall_123495</td>\n",
       "      <td>Wall CT, Barnetstr.</td>\n",
       "      <td>Berlin</td>\n",
       "      <td>Barnetstr. ggü. 54 (0-24 Uhr)</td>\n",
       "      <td>0:00-24:00</td>\n",
       "      <td>Barnetstr. ggü. 54</td>\n",
       "      <td>12305</td>\n",
       "      <td>Deutschland</td>\n",
       "      <td>13.396125</td>\n",
       "      <td>52.396915</td>\n",
       "      <td>...</td>\n",
       "      <td>30</td>\n",
       "      <td>NaN</td>\n",
       "      <td>0.914499</td>\n",
       "      <td>0.233806</td>\n",
       "      <td>0.000340</td>\n",
       "      <td>-0.002261</td>\n",
       "      <td>1.288806e-06</td>\n",
       "      <td>0.002271</td>\n",
       "      <td>14.469973</td>\n",
       "      <td>14</td>\n",
       "    </tr>\n",
       "    <tr>\n",
       "      <th>147</th>\n",
       "      <td>Wall_122524</td>\n",
       "      <td>Wall CT, S-Bhf. Friedrichshagen, Dahlwitzer La...</td>\n",
       "      <td>Berlin</td>\n",
       "      <td>S-Bhf. Friedrichshagen, Dahlwitzer Landstr.   ...</td>\n",
       "      <td>0:00-24:00</td>\n",
       "      <td>S-Bhf. Friedrichshagen, Dahlwitzer Landstr.</td>\n",
       "      <td>12587</td>\n",
       "      <td>Deutschland</td>\n",
       "      <td>13.625350</td>\n",
       "      <td>52.457726</td>\n",
       "      <td>...</td>\n",
       "      <td>30</td>\n",
       "      <td>NaN</td>\n",
       "      <td>0.915560</td>\n",
       "      <td>0.237807</td>\n",
       "      <td>0.004341</td>\n",
       "      <td>-0.001200</td>\n",
       "      <td>2.106372e-06</td>\n",
       "      <td>0.002903</td>\n",
       "      <td>18.498717</td>\n",
       "      <td>35</td>\n",
       "    </tr>\n",
       "    <tr>\n",
       "      <th>234</th>\n",
       "      <td>Wall_123502</td>\n",
       "      <td>Wall CT, Bosepark, Manteuffelstr.</td>\n",
       "      <td>Berlin</td>\n",
       "      <td>Bosepark, Manteuffelstr. ggü. 9 (0-24 Uhr)</td>\n",
       "      <td>0:00-24:00</td>\n",
       "      <td>Bosepark, Manteuffelstr. ggü. 9</td>\n",
       "      <td>12103</td>\n",
       "      <td>Deutschland</td>\n",
       "      <td>13.377623</td>\n",
       "      <td>52.463965</td>\n",
       "      <td>...</td>\n",
       "      <td>30</td>\n",
       "      <td>NaN</td>\n",
       "      <td>0.915669</td>\n",
       "      <td>0.233484</td>\n",
       "      <td>0.000017</td>\n",
       "      <td>-0.001091</td>\n",
       "      <td>2.974730e-07</td>\n",
       "      <td>0.001091</td>\n",
       "      <td>6.951808</td>\n",
       "      <td>54</td>\n",
       "    </tr>\n",
       "    <tr>\n",
       "      <th>237</th>\n",
       "      <td>Wall_123562</td>\n",
       "      <td>Wall CT, Alt-Gatow</td>\n",
       "      <td>Berlin</td>\n",
       "      <td>Alt-Gatow hinter 65 (0-24 Uhr)</td>\n",
       "      <td>0:00-24:00</td>\n",
       "      <td>Alt-Gatow hinter 65</td>\n",
       "      <td>14089</td>\n",
       "      <td>Deutschland</td>\n",
       "      <td>13.183582</td>\n",
       "      <td>52.483931</td>\n",
       "      <td>...</td>\n",
       "      <td>30</td>\n",
       "      <td>NaN</td>\n",
       "      <td>0.916017</td>\n",
       "      <td>0.230097</td>\n",
       "      <td>-0.003369</td>\n",
       "      <td>-0.000742</td>\n",
       "      <td>1.189196e-06</td>\n",
       "      <td>0.002181</td>\n",
       "      <td>13.899547</td>\n",
       "      <td>31</td>\n",
       "    </tr>\n",
       "    <tr>\n",
       "      <th>221</th>\n",
       "      <td>Wall_123484</td>\n",
       "      <td>Wall CT, Viktoriapark, Kreuzbergstr.</td>\n",
       "      <td>Berlin</td>\n",
       "      <td>Viktoriapark, Kreuzbergstr. ggü. 31 (0-24 Uhr)</td>\n",
       "      <td>0:00-24:00</td>\n",
       "      <td>Viktoriapark, Kreuzbergstr. ggü. 31</td>\n",
       "      <td>10965</td>\n",
       "      <td>Deutschland</td>\n",
       "      <td>13.377600</td>\n",
       "      <td>52.489357</td>\n",
       "      <td>...</td>\n",
       "      <td>30</td>\n",
       "      <td>NaN</td>\n",
       "      <td>0.916112</td>\n",
       "      <td>0.233483</td>\n",
       "      <td>0.000017</td>\n",
       "      <td>-0.000648</td>\n",
       "      <td>1.048731e-07</td>\n",
       "      <td>0.000648</td>\n",
       "      <td>4.127679</td>\n",
       "      <td>5</td>\n",
       "    </tr>\n",
       "  </tbody>\n",
       "</table>\n",
       "<p>5 rows × 29 columns</p>\n",
       "</div>"
      ],
      "text/plain": [
       "      LavatoryID                                        Description    City  \\\n",
       "227  Wall_123495                                Wall CT, Barnetstr.  Berlin   \n",
       "147  Wall_122524  Wall CT, S-Bhf. Friedrichshagen, Dahlwitzer La...  Berlin   \n",
       "234  Wall_123502                  Wall CT, Bosepark, Manteuffelstr.  Berlin   \n",
       "237  Wall_123562                                 Wall CT, Alt-Gatow  Berlin   \n",
       "221  Wall_123484               Wall CT, Viktoriapark, Kreuzbergstr.  Berlin   \n",
       "\n",
       "                                                Street opening_hours  \\\n",
       "227                      Barnetstr. ggü. 54 (0-24 Uhr)    0:00-24:00   \n",
       "147  S-Bhf. Friedrichshagen, Dahlwitzer Landstr.   ...    0:00-24:00   \n",
       "234         Bosepark, Manteuffelstr. ggü. 9 (0-24 Uhr)    0:00-24:00   \n",
       "237                     Alt-Gatow hinter 65 (0-24 Uhr)    0:00-24:00   \n",
       "221     Viktoriapark, Kreuzbergstr. ggü. 31 (0-24 Uhr)    0:00-24:00   \n",
       "\n",
       "                                     street_address PostalCode      Country  \\\n",
       "227                             Barnetstr. ggü. 54       12305  Deutschland   \n",
       "147  S-Bhf. Friedrichshagen, Dahlwitzer Landstr.         12587  Deutschland   \n",
       "234                Bosepark, Manteuffelstr. ggü. 9       12103  Deutschland   \n",
       "237                            Alt-Gatow hinter 65       14089  Deutschland   \n",
       "221            Viktoriapark, Kreuzbergstr. ggü. 31       10965  Deutschland   \n",
       "\n",
       "     Longitude   Latitude  ... ratings Comments      lat2      lon2      dlon  \\\n",
       "227  13.396125  52.396915  ...      30      NaN  0.914499  0.233806  0.000340   \n",
       "147  13.625350  52.457726  ...      30      NaN  0.915560  0.237807  0.004341   \n",
       "234  13.377623  52.463965  ...      30      NaN  0.915669  0.233484  0.000017   \n",
       "237  13.183582  52.483931  ...      30      NaN  0.916017  0.230097 -0.003369   \n",
       "221  13.377600  52.489357  ...      30      NaN  0.916112  0.233483  0.000017   \n",
       "\n",
       "         dlat             a         c geo_distance  cluster  \n",
       "227 -0.002261  1.288806e-06  0.002271    14.469973       14  \n",
       "147 -0.001200  2.106372e-06  0.002903    18.498717       35  \n",
       "234 -0.001091  2.974730e-07  0.001091     6.951808       54  \n",
       "237 -0.000742  1.189196e-06  0.002181    13.899547       31  \n",
       "221 -0.000648  1.048731e-07  0.000648     4.127679        5  \n",
       "\n",
       "[5 rows x 29 columns]"
      ]
     },
     "execution_count": 29,
     "metadata": {},
     "output_type": "execute_result"
    }
   ],
   "source": [
    "top_toilets['cluster'] = kmeans.predict(top_toilets[['Latitude','Longitude']])\n",
    "top_toilets.head()"
   ]
  },
  {
   "cell_type": "code",
   "execution_count": 30,
   "id": "09f1206c",
   "metadata": {},
   "outputs": [
    {
     "ename": "ModuleNotFoundError",
     "evalue": "No module named 'plotly_express'",
     "output_type": "error",
     "traceback": [
      "\u001b[1;31m---------------------------------------------------------------------------\u001b[0m",
      "\u001b[1;31mModuleNotFoundError\u001b[0m                       Traceback (most recent call last)",
      "\u001b[1;32m<ipython-input-30-31e6bbf3fb95>\u001b[0m in \u001b[0;36m<module>\u001b[1;34m\u001b[0m\n\u001b[1;32m----> 1\u001b[1;33m \u001b[1;32mimport\u001b[0m \u001b[0mplotly_express\u001b[0m \u001b[1;32mas\u001b[0m \u001b[0mpx\u001b[0m\u001b[1;33m\u001b[0m\u001b[1;33m\u001b[0m\u001b[0m\n\u001b[0m\u001b[0;32m      2\u001b[0m \u001b[0mpx\u001b[0m\u001b[1;33m.\u001b[0m\u001b[0mset_mapbox_access_token\u001b[0m\u001b[1;33m(\u001b[0m\u001b[1;34m\"pk.eyJ1Ijoic2hha2Fzb20iLCJhIjoiY2plMWg1NGFpMXZ5NjJxbjhlM2ttN3AwbiJ9.RtGYHmreKiyBfHuElgYq_w\"\u001b[0m\u001b[1;33m)\u001b[0m\u001b[1;33m\u001b[0m\u001b[1;33m\u001b[0m\u001b[0m\n\u001b[0;32m      3\u001b[0m \u001b[1;31m#configure_plotly_browser_state()\u001b[0m\u001b[1;33m\u001b[0m\u001b[1;33m\u001b[0m\u001b[1;33m\u001b[0m\u001b[0m\n\u001b[0;32m      4\u001b[0m \u001b[0mpx\u001b[0m\u001b[1;33m.\u001b[0m\u001b[0mscatter_mapbox\u001b[0m\u001b[1;33m(\u001b[0m\u001b[0mdata\u001b[0m\u001b[1;33m,\u001b[0m \u001b[0mlat\u001b[0m\u001b[1;33m=\u001b[0m\u001b[1;34m\"Latitude\"\u001b[0m\u001b[1;33m,\u001b[0m \u001b[0mlon\u001b[0m\u001b[1;33m=\u001b[0m\u001b[1;34m\"Longitude\"\u001b[0m\u001b[1;33m,\u001b[0m\u001b[0mcolor\u001b[0m\u001b[1;33m=\u001b[0m\u001b[1;34m\"cluster\"\u001b[0m\u001b[1;33m,\u001b[0m\u001b[0msize_max\u001b[0m\u001b[1;33m=\u001b[0m\u001b[1;36m30\u001b[0m\u001b[1;33m,\u001b[0m \u001b[0mzoom\u001b[0m\u001b[1;33m=\u001b[0m\u001b[1;36m3\u001b[0m\u001b[1;33m,\u001b[0m \u001b[0mwidth\u001b[0m\u001b[1;33m=\u001b[0m\u001b[1;36m800\u001b[0m\u001b[1;33m,\u001b[0m \u001b[0mheight\u001b[0m\u001b[1;33m=\u001b[0m\u001b[1;36m400\u001b[0m\u001b[1;33m)\u001b[0m\u001b[1;33m\u001b[0m\u001b[1;33m\u001b[0m\u001b[0m\n",
      "\u001b[1;31mModuleNotFoundError\u001b[0m: No module named 'plotly_express'"
     ]
    }
   ],
   "source": [
    "import plotly_express as px\n",
    "px.set_mapbox_access_token(\"pk.eyJ1Ijoic2hha2Fzb20iLCJhIjoiY2plMWg1NGFpMXZ5NjJxbjhlM2ttN3AwbiJ9.RtGYHmreKiyBfHuElgYq_w\")\n",
    "#configure_plotly_browser_state()\n",
    "px.scatter_mapbox(data, lat=\"Latitude\", lon=\"Longitude\",color=\"cluster\",size_max=30, zoom=3, width=800, height=400)"
   ]
  },
  {
   "cell_type": "code",
   "execution_count": 218,
   "id": "556949d3",
   "metadata": {},
   "outputs": [
    {
     "name": "stdout",
     "output_type": "stream",
     "text": [
      "26\n"
     ]
    },
    {
     "data": {
      "text/html": [
       "<div>\n",
       "<style scoped>\n",
       "    .dataframe tbody tr th:only-of-type {\n",
       "        vertical-align: middle;\n",
       "    }\n",
       "\n",
       "    .dataframe tbody tr th {\n",
       "        vertical-align: top;\n",
       "    }\n",
       "\n",
       "    .dataframe thead th {\n",
       "        text-align: right;\n",
       "    }\n",
       "</style>\n",
       "<table border=\"1\" class=\"dataframe\">\n",
       "  <thead>\n",
       "    <tr style=\"text-align: right;\">\n",
       "      <th></th>\n",
       "      <th>LavatoryID</th>\n",
       "      <th>Latitude</th>\n",
       "      <th>Longitude</th>\n",
       "      <th>geo_distance</th>\n",
       "      <th>cluster</th>\n",
       "      <th>ratings</th>\n",
       "    </tr>\n",
       "  </thead>\n",
       "  <tbody>\n",
       "    <tr>\n",
       "      <th>157</th>\n",
       "      <td>Wall_122531</td>\n",
       "      <td>52.528958</td>\n",
       "      <td>13.378163</td>\n",
       "      <td>0.296527</td>\n",
       "      <td>26</td>\n",
       "      <td>22</td>\n",
       "    </tr>\n",
       "    <tr>\n",
       "      <th>225</th>\n",
       "      <td>Wall_123487</td>\n",
       "      <td>52.502596</td>\n",
       "      <td>13.377878</td>\n",
       "      <td>2.655921</td>\n",
       "      <td>26</td>\n",
       "      <td>22</td>\n",
       "    </tr>\n",
       "    <tr>\n",
       "      <th>360</th>\n",
       "      <td>Fremd_1</td>\n",
       "      <td>52.513760</td>\n",
       "      <td>13.380450</td>\n",
       "      <td>1.436327</td>\n",
       "      <td>26</td>\n",
       "      <td>22</td>\n",
       "    </tr>\n",
       "    <tr>\n",
       "      <th>21</th>\n",
       "      <td>Wall_119993</td>\n",
       "      <td>52.514167</td>\n",
       "      <td>13.391500</td>\n",
       "      <td>1.698216</td>\n",
       "      <td>26</td>\n",
       "      <td>19</td>\n",
       "    </tr>\n",
       "    <tr>\n",
       "      <th>161</th>\n",
       "      <td>Wall_122575</td>\n",
       "      <td>52.516372</td>\n",
       "      <td>13.375539</td>\n",
       "      <td>1.124653</td>\n",
       "      <td>26</td>\n",
       "      <td>18</td>\n",
       "    </tr>\n",
       "  </tbody>\n",
       "</table>\n",
       "</div>"
      ],
      "text/plain": [
       "      LavatoryID   Latitude  Longitude  geo_distance  cluster  ratings\n",
       "157  Wall_122531  52.528958  13.378163      0.296527       26       22\n",
       "225  Wall_123487  52.502596  13.377878      2.655921       26       22\n",
       "360      Fremd_1  52.513760  13.380450      1.436327       26       22\n",
       "21   Wall_119993  52.514167  13.391500      1.698216       26       19\n",
       "161  Wall_122575  52.516372  13.375539      1.124653       26       18"
      ]
     },
     "execution_count": 218,
     "metadata": {},
     "output_type": "execute_result"
    }
   ],
   "source": [
    "recommend_toilets(top_toilets,52.52646152725616, 13.376623742933933)"
   ]
  },
  {
   "cell_type": "code",
   "execution_count": 219,
   "id": "075ae10c",
   "metadata": {},
   "outputs": [
    {
     "data": {
      "text/html": [
       "<div>\n",
       "<style scoped>\n",
       "    .dataframe tbody tr th:only-of-type {\n",
       "        vertical-align: middle;\n",
       "    }\n",
       "\n",
       "    .dataframe tbody tr th {\n",
       "        vertical-align: top;\n",
       "    }\n",
       "\n",
       "    .dataframe thead th {\n",
       "        text-align: right;\n",
       "    }\n",
       "</style>\n",
       "<table border=\"1\" class=\"dataframe\">\n",
       "  <thead>\n",
       "    <tr style=\"text-align: right;\">\n",
       "      <th></th>\n",
       "      <th>LavatoryID</th>\n",
       "      <th>Latitude</th>\n",
       "      <th>Longitude</th>\n",
       "      <th>geo_distance</th>\n",
       "      <th>cluster</th>\n",
       "      <th>ratings</th>\n",
       "    </tr>\n",
       "  </thead>\n",
       "  <tbody>\n",
       "    <tr>\n",
       "      <th>157</th>\n",
       "      <td>Wall_122531</td>\n",
       "      <td>52.528958</td>\n",
       "      <td>13.378163</td>\n",
       "      <td>0.296527</td>\n",
       "      <td>26</td>\n",
       "      <td>22</td>\n",
       "    </tr>\n",
       "    <tr>\n",
       "      <th>161</th>\n",
       "      <td>Wall_122575</td>\n",
       "      <td>52.516372</td>\n",
       "      <td>13.375539</td>\n",
       "      <td>1.124653</td>\n",
       "      <td>26</td>\n",
       "      <td>18</td>\n",
       "    </tr>\n",
       "    <tr>\n",
       "      <th>294</th>\n",
       "      <td>Wall_3389</td>\n",
       "      <td>52.516609</td>\n",
       "      <td>13.381269</td>\n",
       "      <td>1.140087</td>\n",
       "      <td>26</td>\n",
       "      <td>17</td>\n",
       "    </tr>\n",
       "    <tr>\n",
       "      <th>271</th>\n",
       "      <td>Wall_124364</td>\n",
       "      <td>52.537157</td>\n",
       "      <td>13.365744</td>\n",
       "      <td>1.399000</td>\n",
       "      <td>88</td>\n",
       "      <td>14</td>\n",
       "    </tr>\n",
       "    <tr>\n",
       "      <th>360</th>\n",
       "      <td>Fremd_1</td>\n",
       "      <td>52.513760</td>\n",
       "      <td>13.380450</td>\n",
       "      <td>1.436327</td>\n",
       "      <td>26</td>\n",
       "      <td>22</td>\n",
       "    </tr>\n",
       "  </tbody>\n",
       "</table>\n",
       "</div>"
      ],
      "text/plain": [
       "      LavatoryID   Latitude  Longitude  geo_distance  cluster  ratings\n",
       "157  Wall_122531  52.528958  13.378163      0.296527       26       22\n",
       "161  Wall_122575  52.516372  13.375539      1.124653       26       18\n",
       "294    Wall_3389  52.516609  13.381269      1.140087       26       17\n",
       "271  Wall_124364  52.537157  13.365744      1.399000       88       14\n",
       "360      Fremd_1  52.513760  13.380450      1.436327       26       22"
      ]
     },
     "execution_count": 219,
     "metadata": {},
     "output_type": "execute_result"
    }
   ],
   "source": [
    "near_toilets = data.sort_values(by=['geo_distance'], ascending=True)\n",
    "near_toilets.iloc[0:5][['LavatoryID', 'Latitude','Longitude','geo_distance','cluster','ratings']]"
   ]
  },
  {
   "cell_type": "code",
   "execution_count": null,
   "id": "8712ee6a",
   "metadata": {},
   "outputs": [],
   "source": []
  }
 ],
 "metadata": {
  "kernelspec": {
   "display_name": "Python 3",
   "language": "python",
   "name": "python3"
  },
  "language_info": {
   "codemirror_mode": {
    "name": "ipython",
    "version": 3
   },
   "file_extension": ".py",
   "mimetype": "text/x-python",
   "name": "python",
   "nbconvert_exporter": "python",
   "pygments_lexer": "ipython3",
   "version": "3.8.8"
  }
 },
 "nbformat": 4,
 "nbformat_minor": 5
}
